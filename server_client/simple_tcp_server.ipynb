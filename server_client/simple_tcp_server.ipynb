{
 "cells": [
  {
   "cell_type": "markdown",
   "metadata": {},
   "source": [
    "### Socket modules: python內建，是 IP Address + port number 的連線\n",
    "  **Socket intorduction: https://gist.github.com/kevinkindom/108ffd675cb9253f8f71"
   ]
  },
  {
   "cell_type": "code",
   "execution_count": 1,
   "metadata": {},
   "outputs": [],
   "source": [
    "import sys\n",
    "import socket\n",
    "import threading"
   ]
  },
  {
   "cell_type": "code",
   "execution_count": null,
   "metadata": {},
   "outputs": [
    {
     "name": "stdout",
     "output_type": "stream",
     "text": [
      "[*] Listening on 0.0.0.0:9999\n",
      "[*] Accpeted connection from: 127.0.0.1:49978\n",
      "[*] Received: b'GET / HTTP/1.1\\r\\nHost: google.com\\r\\n\\r\\n'\n",
      "[*] Accpeted connection from: 127.0.0.1:52054\n",
      "[*] Received: b'Try to connect to server yaya~~~'\n",
      "[*] Accpeted connection from: 127.0.0.1:52728\n",
      "[*] Received: b''\n",
      "[*] Accpeted connection from: 127.0.0.1:52942\n",
      "[*] Received: b'Try to connect to server yaya~~~'\n"
     ]
    }
   ],
   "source": [
    "# Simple TCP Server\n",
    "\n",
    "bind_ip = \"0.0.0.0\"\n",
    "bind_port = 9999\n",
    "\n",
    "server = socket.socket(socket.AF_INET, socket.SOCK_STREAM)\n",
    "\n",
    "server.bind((bind_ip, bind_port))\n",
    "\n",
    "server.listen(5)\n",
    "\n",
    "print(\"[*] Listening on %s:%d\" %(bind_ip, bind_port))\n",
    "\n",
    "def handle_client(client_socket):\n",
    "    \n",
    "    request = client_socket.recv(1024)\n",
    "    print(\"[*] Received: %s\" % request)\n",
    "    \n",
    "    client_socket.send(b'ACK!')\n",
    "    \n",
    "    client_socket.close()\n",
    "\n",
    "while True:\n",
    "    client, addr = server.accept()\n",
    "    \n",
    "    print(\"[*] Accpeted connection from: %s:%d\" % (addr[0], addr[1]))\n",
    "    \n",
    "    client_handler = threading.Thread(target=handle_client, args=(client,))\n",
    "    client_handler.start()"
   ]
  },
  {
   "cell_type": "code",
   "execution_count": null,
   "metadata": {},
   "outputs": [],
   "source": []
  },
  {
   "cell_type": "code",
   "execution_count": 11,
   "metadata": {
    "scrolled": true
   },
   "outputs": [
    {
     "name": "stdout",
     "output_type": "stream",
     "text": [
      "(Not all processes could be identified, non-owned process info\n",
      " will not be shown, you would have to be root to see it all.)\n",
      "Active Internet connections (servers and established)\n",
      "Proto Recv-Q Send-Q Local Address           Foreign Address         State       PID/Program name\n",
      "tcp        0      0 localhost:58601         *:*                     LISTEN      6072/python     \n",
      "tcp        0      0 localhost:55635         *:*                     LISTEN      6072/python     \n",
      "tcp        0      0 localhost:35763         *:*                     LISTEN      6072/python     \n",
      "tcp        0      0 localhost:40147         *:*                     LISTEN      6072/python     \n",
      "tcp        0      0 eric-ThinkPad:domain    *:*                     LISTEN      -               \n",
      "tcp        0      0 localhost:41751         *:*                     LISTEN      6072/python     \n",
      "tcp        0      0 localhost:ipp           *:*                     LISTEN      -               \n",
      "tcp        0      0 localhost:8888          *:*                     LISTEN      5128/python     \n",
      "tcp        0      0 localhost:postgresql    *:*                     LISTEN      -               \n",
      "tcp        0      0 localhost:45465         *:*                     LISTEN      6072/python     \n",
      "tcp        0      0 *:db-lsp                *:*                     LISTEN      3694/dropbox    \n",
      "tcp        0      0 localhost:17600         *:*                     LISTEN      3694/dropbox    \n",
      "tcp        0      0 localhost:17603         *:*                     LISTEN      3694/dropbox    \n",
      "tcp        0      0 192.168.0.104:57086     tsa03s02-in-f142.:https ESTABLISHED 5628/?token=c349599\n",
      "tcp        0      0 localhost:45644         localhost:8888          ESTABLISHED 5628/?token=c349599\n",
      "tcp        0      0 192.168.0.104:49866     tsa01s08-in-f46.1:https ESTABLISHED 5628/?token=c349599\n",
      "tcp        0      0 localhost:45568         localhost:35763         ESTABLISHED 5128/python     \n",
      "tcp       32      0 192.168.0.104:44096     162.125.34.137:https    CLOSE_WAIT  3694/dropbox    \n",
      "tcp        0      0 192.168.0.104:42392     tsa03s02-in-f1.1e:https ESTABLISHED 5628/?token=c349599\n",
      "tcp        0      0 192.168.0.104:32778     tsa03s01-in-f238.:https ESTABLISHED 5628/?token=c349599\n",
      "tcp        0      0 192.168.0.104:47944     lb-192-30-253-124:https ESTABLISHED 5628/?token=c349599\n",
      "tcp        0      0 192.168.0.104:57076     tsa03s02-in-f142.:https ESTABLISHED 5628/?token=c349599\n",
      "tcp       32      0 192.168.0.104:50000     162.125.82.3:https      CLOSE_WAIT  3694/dropbox    \n",
      "tcp        0      0 localhost:55635         localhost:57788         ESTABLISHED 6072/python     \n",
      "tcp        0      0 localhost:57788         localhost:55635         ESTABLISHED 5128/python     \n",
      "tcp        0      0 localhost:8888          localhost:45644         ESTABLISHED 5128/python     \n",
      "tcp        0      0 localhost:48632         localhost:58601         ESTABLISHED 5128/python     \n",
      "tcp        0      0 192.168.0.104:58618     tk-in-f106.1e100.:https ESTABLISHED 5628/?token=c349599\n",
      "tcp        0      0 192.168.0.104:45110     108.177.125.94:https    ESTABLISHED 5628/?token=c349599\n",
      "tcp       32      0 192.168.0.104:40256     162.125.82.7:https      CLOSE_WAIT  3694/dropbox    \n",
      "tcp        0      0 192.168.0.104:42266     tsa01s07-in-f14.1:https ESTABLISHED 5628/?token=c349599\n",
      "tcp        0      0 localhost:47988         localhost:40147         ESTABLISHED 5128/python     \n",
      "tcp        0      0 192.168.0.104:47346     tsa03s06-in-f13.1:https ESTABLISHED 5628/?token=c349599\n",
      "tcp        0      0 localhost:45802         localhost:8888          ESTABLISHED 5628/?token=c349599\n",
      "tcp        0      0 192.168.0.104:42834     th-in-f94.1e100.n:https ESTABLISHED 5628/?token=c349599\n",
      "tcp        0      0 localhost:57796         localhost:55635         ESTABLISHED 5128/python     \n",
      "tcp       32      0 192.168.0.104:49616     162.125.82.3:https      CLOSE_WAIT  3694/dropbox    \n",
      "tcp        0      0 192.168.0.104:36086     162.125.34.129:https    ESTABLISHED 3694/dropbox    \n",
      "tcp        0      0 192.168.0.104:49852     tsa01s08-in-f46.1:https ESTABLISHED 5628/?token=c349599\n",
      "tcp        0      0 localhost:8888          localhost:45802         ESTABLISHED 5128/python     \n",
      "tcp        0      0 192.168.0.104:60990     tsa03s01-in-f238.:https ESTABLISHED 5628/?token=c349599\n",
      "tcp        1      0 192.168.0.104:44948     tm-in-f105.1e100.n:http CLOSE_WAIT  6072/python     \n",
      "tcp        0      0 192.168.0.104:47490     wa-in-f94.1e100.n:https ESTABLISHED 5628/?token=c349599\n",
      "tcp        0      0 192.168.0.104:41542     tsa01s07-in-f3.1e:https ESTABLISHED 5628/?token=c349599\n",
      "tcp        0      0 localhost:58601         localhost:48632         ESTABLISHED 6072/python     \n",
      "tcp        0      0 192.168.0.104:55400     tsa01s08-in-f35.1:https ESTABLISHED 5628/?token=c349599\n",
      "tcp        0      0 192.168.0.104:58616     tk-in-f106.1e100.:https ESTABLISHED 5628/?token=c349599\n",
      "tcp        0      0 192.168.0.104:54706     tsa03s06-in-f2.1e:https ESTABLISHED 5628/?token=c349599\n",
      "tcp        0      0 192.168.0.104:60988     tsa03s01-in-f238.:https ESTABLISHED 5628/?token=c349599\n",
      "tcp        0      0 192.168.0.104:49672     tsa01s09-in-f10.1:https ESTABLISHED 5628/?token=c349599\n",
      "tcp        0      0 192.168.0.104:53784     tsa03s01-in-f3.1e:https ESTABLISHED 5628/?token=c349599\n",
      "tcp        0      0 192.168.0.104:57658     ti-in-f94.1e100.n:https ESTABLISHED 5628/?token=c349599\n",
      "tcp        1      0 192.168.0.104:39336     ec2-34-192-34-151:https CLOSE_WAIT  3694/dropbox    \n",
      "tcp        0      0 192.168.0.104:55420     tsa01s08-in-f35.1:https ESTABLISHED 5628/?token=c349599\n",
      "tcp        0      0 192.168.0.104:59530     108.177.125.188:5228    ESTABLISHED 5628/?token=c349599\n",
      "tcp        0      0 192.168.0.104:36092     162.125.34.129:https    ESTABLISHED 3694/dropbox    \n",
      "tcp        0      0 192.168.0.104:54380     tsa03s01-in-f19.1:https ESTABLISHED 5628/?token=c349599\n",
      "tcp        0      0 192.168.0.104:55380     tsa01s08-in-f35.1:https ESTABLISHED 5628/?token=c349599\n",
      "tcp        0      0 localhost:55635         localhost:57796         ESTABLISHED 6072/python     \n",
      "tcp        0      0 localhost:35763         localhost:45568         ESTABLISHED 6072/python     \n",
      "tcp        0      0 localhost:40147         localhost:47988         ESTABLISHED 6072/python     \n",
      "tcp6       0      0 [::]:mysql              [::]:*                  LISTEN      -               \n",
      "tcp6       0      0 ip6-localhost:ipp       [::]:*                  LISTEN      -               \n",
      "tcp6       0      0 [::]:db-lsp             [::]:*                  LISTEN      3694/dropbox    \n",
      "tcp6       0      0 [::]:33060              [::]:*                  LISTEN      -               \n",
      "udp        0      0 *:47173                 *:*                                 -               \n",
      "udp        0      0 *:48308                 *:*                                 -               \n",
      "udp        0      0 localhost:57296         localhost:57296         ESTABLISHED -               \n",
      "udp        0      0 eric-ThinkPad:domain    *:*                                 -               \n",
      "udp        0      0 *:bootpc                *:*                                 -               \n",
      "udp        0      0 *:57537                 *:*                                 6072/python     \n",
      "udp        0      0 *:ipp                   *:*                                 -               \n",
      "udp        0      0 *:17500                 *:*                                 3694/dropbox    \n",
      "udp   156416      0 *:17500                 *:*                                 3694/dropbox    \n",
      "udp        0      0 *:mdns                  *:*                                 5628/?token=c349599\n",
      "udp        0      0 *:mdns                  *:*                                 5628/?token=c349599\n",
      "udp        0      0 *:mdns                  *:*                                 -               \n",
      "udp6       0      0 [::]:51933              [::]:*                              -               \n",
      "udp6       0      0 [::]:mdns               [::]:*                              5628/?token=c349599\n",
      "udp6       0      0 [::]:mdns               [::]:*                              -               \n"
     ]
    }
   ],
   "source": [
    "# Showing port number in ubuntu system \n",
    "!netstat -t -u -a -p\n",
    " \n",
    " # -t 和 -u 選項表示要顯示 tcp 和 udp 通訊協定\n",
    " # -a 選項表示要顯示所有內容\n",
    " # -p 選項表示要顯示 PID"
   ]
  }
 ],
 "metadata": {
  "kernelspec": {
   "display_name": "Python 3",
   "language": "python",
   "name": "python3"
  },
  "language_info": {
   "codemirror_mode": {
    "name": "ipython",
    "version": 3
   },
   "file_extension": ".py",
   "mimetype": "text/x-python",
   "name": "python",
   "nbconvert_exporter": "python",
   "pygments_lexer": "ipython3",
   "version": "3.6.5"
  }
 },
 "nbformat": 4,
 "nbformat_minor": 2
}
