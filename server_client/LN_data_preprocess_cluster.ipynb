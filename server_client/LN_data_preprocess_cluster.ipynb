{
 "cells": [
  {
   "cell_type": "code",
   "execution_count": 212,
   "metadata": {},
   "outputs": [],
   "source": [
    "import os\n",
    "import sys\n",
    "import numpy as np\n",
    "import pandas as pd\n",
    "from sklearn import preprocessing"
   ]
  },
  {
   "cell_type": "code",
   "execution_count": 213,
   "metadata": {},
   "outputs": [],
   "source": [
    "import matplotlib.pyplot as plt\n",
    "%matplotlib inline"
   ]
  },
  {
   "cell_type": "code",
   "execution_count": null,
   "metadata": {},
   "outputs": [],
   "source": []
  },
  {
   "cell_type": "code",
   "execution_count": 214,
   "metadata": {},
   "outputs": [],
   "source": [
    "test_id = pd.read_csv('TBN_Y_ZERO.csv')['CUST_NO']"
   ]
  },
  {
   "cell_type": "markdown",
   "metadata": {},
   "source": [
    "# Browse Behavior Data"
   ]
  },
  {
   "cell_type": "code",
   "execution_count": 215,
   "metadata": {},
   "outputs": [
    {
     "name": "stdout",
     "output_type": "stream",
     "text": [
      "The browse data shape : (2209864, 3)\n"
     ]
    },
    {
     "data": {
      "text/html": [
       "<div>\n",
       "<style scoped>\n",
       "    .dataframe tbody tr th:only-of-type {\n",
       "        vertical-align: middle;\n",
       "    }\n",
       "\n",
       "    .dataframe tbody tr th {\n",
       "        vertical-align: top;\n",
       "    }\n",
       "\n",
       "    .dataframe thead th {\n",
       "        text-align: right;\n",
       "    }\n",
       "</style>\n",
       "<table border=\"1\" class=\"dataframe\">\n",
       "  <thead>\n",
       "    <tr style=\"text-align: right;\">\n",
       "      <th></th>\n",
       "      <th>CUST_NO</th>\n",
       "      <th>VISITDATE</th>\n",
       "      <th>PAGE</th>\n",
       "    </tr>\n",
       "  </thead>\n",
       "  <tbody>\n",
       "    <tr>\n",
       "      <th>0</th>\n",
       "      <td>AZTHNWQ_LXMGIMYG</td>\n",
       "      <td>9462</td>\n",
       "      <td>http://www.esunbank.com.tw/gygrt/e2c/iougkjr/</td>\n",
       "    </tr>\n",
       "    <tr>\n",
       "      <th>1</th>\n",
       "      <td>AZTHNWQ_LXMGIMYG</td>\n",
       "      <td>9528</td>\n",
       "      <td>https://www.esunbank.com.tw/gygrt/wgdqth/gsxri...</td>\n",
       "    </tr>\n",
       "    <tr>\n",
       "      <th>2</th>\n",
       "      <td>3PY428CHUQBULFIG</td>\n",
       "      <td>9458</td>\n",
       "      <td>https://www.esunbank.com.tw/edrn/deoxt/rgws-cg...</td>\n",
       "    </tr>\n",
       "    <tr>\n",
       "      <th>3</th>\n",
       "      <td>JVPD1QUJWVLMZU8S</td>\n",
       "      <td>9457</td>\n",
       "      <td>https://www.esunbank.com.tw/edrn/pgusordq/fgpo...</td>\n",
       "    </tr>\n",
       "    <tr>\n",
       "      <th>4</th>\n",
       "      <td>JVPD1QUJWVLMZU8S</td>\n",
       "      <td>9485</td>\n",
       "      <td>https://www.esunbank.com.tw/edrn/pgusordq/fgpo...</td>\n",
       "    </tr>\n",
       "  </tbody>\n",
       "</table>\n",
       "</div>"
      ],
      "text/plain": [
       "            CUST_NO  VISITDATE  \\\n",
       "0  AZTHNWQ_LXMGIMYG       9462   \n",
       "1  AZTHNWQ_LXMGIMYG       9528   \n",
       "2  3PY428CHUQBULFIG       9458   \n",
       "3  JVPD1QUJWVLMZU8S       9457   \n",
       "4  JVPD1QUJWVLMZU8S       9485   \n",
       "\n",
       "                                                PAGE  \n",
       "0      http://www.esunbank.com.tw/gygrt/e2c/iougkjr/  \n",
       "1  https://www.esunbank.com.tw/gygrt/wgdqth/gsxri...  \n",
       "2  https://www.esunbank.com.tw/edrn/deoxt/rgws-cg...  \n",
       "3  https://www.esunbank.com.tw/edrn/pgusordq/fgpo...  \n",
       "4  https://www.esunbank.com.tw/edrn/pgusordq/fgpo...  "
      ]
     },
     "execution_count": 215,
     "metadata": {},
     "output_type": "execute_result"
    }
   ],
   "source": [
    "cust_browse_df = pd.read_csv('./TBN_CUST_BEHAVIOR.csv')\n",
    "print(f'The browse data shape : {cust_browse_df.shape}')\n",
    "cust_browse_df.head()"
   ]
  },
  {
   "cell_type": "code",
   "execution_count": 216,
   "metadata": {},
   "outputs": [
    {
     "data": {
      "text/html": [
       "<div>\n",
       "<style scoped>\n",
       "    .dataframe tbody tr th:only-of-type {\n",
       "        vertical-align: middle;\n",
       "    }\n",
       "\n",
       "    .dataframe tbody tr th {\n",
       "        vertical-align: top;\n",
       "    }\n",
       "\n",
       "    .dataframe thead th {\n",
       "        text-align: right;\n",
       "    }\n",
       "</style>\n",
       "<table border=\"1\" class=\"dataframe\">\n",
       "  <thead>\n",
       "    <tr style=\"text-align: right;\">\n",
       "      <th></th>\n",
       "      <th>CUST_NO</th>\n",
       "      <th>VISITDATE</th>\n",
       "      <th>page_class</th>\n",
       "      <th>edrn</th>\n",
       "      <th>fgmo</th>\n",
       "      <th>gpda</th>\n",
       "      <th>gygrt</th>\n",
       "      <th>s</th>\n",
       "      <th>wgdqth</th>\n",
       "    </tr>\n",
       "  </thead>\n",
       "  <tbody>\n",
       "    <tr>\n",
       "      <th>0</th>\n",
       "      <td>AZTHNWQ_LXMGIMYG</td>\n",
       "      <td>9462</td>\n",
       "      <td>gygrt</td>\n",
       "      <td>0</td>\n",
       "      <td>0</td>\n",
       "      <td>0</td>\n",
       "      <td>1</td>\n",
       "      <td>0</td>\n",
       "      <td>0</td>\n",
       "    </tr>\n",
       "    <tr>\n",
       "      <th>1</th>\n",
       "      <td>AZTHNWQ_LXMGIMYG</td>\n",
       "      <td>9528</td>\n",
       "      <td>gygrt</td>\n",
       "      <td>0</td>\n",
       "      <td>0</td>\n",
       "      <td>0</td>\n",
       "      <td>1</td>\n",
       "      <td>0</td>\n",
       "      <td>0</td>\n",
       "    </tr>\n",
       "    <tr>\n",
       "      <th>2</th>\n",
       "      <td>3PY428CHUQBULFIG</td>\n",
       "      <td>9458</td>\n",
       "      <td>edrn</td>\n",
       "      <td>1</td>\n",
       "      <td>0</td>\n",
       "      <td>0</td>\n",
       "      <td>0</td>\n",
       "      <td>0</td>\n",
       "      <td>0</td>\n",
       "    </tr>\n",
       "    <tr>\n",
       "      <th>3</th>\n",
       "      <td>JVPD1QUJWVLMZU8S</td>\n",
       "      <td>9457</td>\n",
       "      <td>edrn</td>\n",
       "      <td>1</td>\n",
       "      <td>0</td>\n",
       "      <td>0</td>\n",
       "      <td>0</td>\n",
       "      <td>0</td>\n",
       "      <td>0</td>\n",
       "    </tr>\n",
       "    <tr>\n",
       "      <th>4</th>\n",
       "      <td>JVPD1QUJWVLMZU8S</td>\n",
       "      <td>9485</td>\n",
       "      <td>edrn</td>\n",
       "      <td>1</td>\n",
       "      <td>0</td>\n",
       "      <td>0</td>\n",
       "      <td>0</td>\n",
       "      <td>0</td>\n",
       "      <td>0</td>\n",
       "    </tr>\n",
       "  </tbody>\n",
       "</table>\n",
       "</div>"
      ],
      "text/plain": [
       "            CUST_NO  VISITDATE page_class  edrn  fgmo  gpda  gygrt  s  wgdqth\n",
       "0  AZTHNWQ_LXMGIMYG       9462      gygrt     0     0     0      1  0       0\n",
       "1  AZTHNWQ_LXMGIMYG       9528      gygrt     0     0     0      1  0       0\n",
       "2  3PY428CHUQBULFIG       9458       edrn     1     0     0      0  0       0\n",
       "3  JVPD1QUJWVLMZU8S       9457       edrn     1     0     0      0  0       0\n",
       "4  JVPD1QUJWVLMZU8S       9485       edrn     1     0     0      0  0       0"
      ]
     },
     "execution_count": 216,
     "metadata": {},
     "output_type": "execute_result"
    }
   ],
   "source": [
    "def make_brower_dummy(cust_browse_df=cust_browse_df):\n",
    "    page_class = []\n",
    "    for url in cust_browse_df['PAGE']:\n",
    "        page_class.append( url.split('/')[3] )\n",
    "\n",
    "    cust_browse_df['page_class'] = page_class\n",
    "    del cust_browse_df['PAGE']\n",
    "\n",
    "    train_dummy = pd.get_dummies(cust_browse_df['page_class'])\n",
    "    \n",
    "    for col in train_dummy.columns:\n",
    "        cust_browse_df[col] = train_dummy[col]\n",
    "    return cust_browse_df\n",
    "cust_browse_df = make_brower_dummy()\n",
    "cust_browse_df.head()"
   ]
  },
  {
   "cell_type": "code",
   "execution_count": 217,
   "metadata": {},
   "outputs": [
    {
     "data": {
      "text/html": [
       "<div>\n",
       "<style scoped>\n",
       "    .dataframe tbody tr th:only-of-type {\n",
       "        vertical-align: middle;\n",
       "    }\n",
       "\n",
       "    .dataframe tbody tr th {\n",
       "        vertical-align: top;\n",
       "    }\n",
       "\n",
       "    .dataframe thead th {\n",
       "        text-align: right;\n",
       "    }\n",
       "</style>\n",
       "<table border=\"1\" class=\"dataframe\">\n",
       "  <thead>\n",
       "    <tr style=\"text-align: right;\">\n",
       "      <th></th>\n",
       "      <th>VISITDATE</th>\n",
       "      <th>edrn</th>\n",
       "      <th>fgmo</th>\n",
       "      <th>gpda</th>\n",
       "      <th>gygrt</th>\n",
       "      <th>s</th>\n",
       "      <th>wgdqth</th>\n",
       "    </tr>\n",
       "  </thead>\n",
       "  <tbody>\n",
       "    <tr>\n",
       "      <th>count</th>\n",
       "      <td>1.950000e+05</td>\n",
       "      <td>195000.000000</td>\n",
       "      <td>195000.000000</td>\n",
       "      <td>195000.000000</td>\n",
       "      <td>195000.000000</td>\n",
       "      <td>195000.000000</td>\n",
       "      <td>195000.000000</td>\n",
       "    </tr>\n",
       "    <tr>\n",
       "      <th>mean</th>\n",
       "      <td>1.076175e+05</td>\n",
       "      <td>9.267574</td>\n",
       "      <td>0.000908</td>\n",
       "      <td>0.008708</td>\n",
       "      <td>1.523226</td>\n",
       "      <td>0.532179</td>\n",
       "      <td>0.000041</td>\n",
       "    </tr>\n",
       "    <tr>\n",
       "      <th>std</th>\n",
       "      <td>7.236835e+05</td>\n",
       "      <td>75.423289</td>\n",
       "      <td>0.039926</td>\n",
       "      <td>0.603169</td>\n",
       "      <td>3.884734</td>\n",
       "      <td>2.288340</td>\n",
       "      <td>0.012810</td>\n",
       "    </tr>\n",
       "    <tr>\n",
       "      <th>min</th>\n",
       "      <td>9.448000e+03</td>\n",
       "      <td>0.000000</td>\n",
       "      <td>0.000000</td>\n",
       "      <td>0.000000</td>\n",
       "      <td>0.000000</td>\n",
       "      <td>0.000000</td>\n",
       "      <td>0.000000</td>\n",
       "    </tr>\n",
       "    <tr>\n",
       "      <th>25%</th>\n",
       "      <td>9.555000e+03</td>\n",
       "      <td>1.000000</td>\n",
       "      <td>0.000000</td>\n",
       "      <td>0.000000</td>\n",
       "      <td>0.000000</td>\n",
       "      <td>0.000000</td>\n",
       "      <td>0.000000</td>\n",
       "    </tr>\n",
       "    <tr>\n",
       "      <th>50%</th>\n",
       "      <td>2.858300e+04</td>\n",
       "      <td>2.000000</td>\n",
       "      <td>0.000000</td>\n",
       "      <td>0.000000</td>\n",
       "      <td>1.000000</td>\n",
       "      <td>0.000000</td>\n",
       "      <td>0.000000</td>\n",
       "    </tr>\n",
       "    <tr>\n",
       "      <th>75%</th>\n",
       "      <td>7.595600e+04</td>\n",
       "      <td>6.000000</td>\n",
       "      <td>0.000000</td>\n",
       "      <td>0.000000</td>\n",
       "      <td>2.000000</td>\n",
       "      <td>0.000000</td>\n",
       "      <td>0.000000</td>\n",
       "    </tr>\n",
       "    <tr>\n",
       "      <th>max</th>\n",
       "      <td>1.050602e+08</td>\n",
       "      <td>11064.000000</td>\n",
       "      <td>5.000000</td>\n",
       "      <td>194.000000</td>\n",
       "      <td>686.000000</td>\n",
       "      <td>284.000000</td>\n",
       "      <td>4.000000</td>\n",
       "    </tr>\n",
       "  </tbody>\n",
       "</table>\n",
       "</div>"
      ],
      "text/plain": [
       "          VISITDATE           edrn           fgmo           gpda  \\\n",
       "count  1.950000e+05  195000.000000  195000.000000  195000.000000   \n",
       "mean   1.076175e+05       9.267574       0.000908       0.008708   \n",
       "std    7.236835e+05      75.423289       0.039926       0.603169   \n",
       "min    9.448000e+03       0.000000       0.000000       0.000000   \n",
       "25%    9.555000e+03       1.000000       0.000000       0.000000   \n",
       "50%    2.858300e+04       2.000000       0.000000       0.000000   \n",
       "75%    7.595600e+04       6.000000       0.000000       0.000000   \n",
       "max    1.050602e+08   11064.000000       5.000000     194.000000   \n",
       "\n",
       "               gygrt              s         wgdqth  \n",
       "count  195000.000000  195000.000000  195000.000000  \n",
       "mean        1.523226       0.532179       0.000041  \n",
       "std         3.884734       2.288340       0.012810  \n",
       "min         0.000000       0.000000       0.000000  \n",
       "25%         0.000000       0.000000       0.000000  \n",
       "50%         1.000000       0.000000       0.000000  \n",
       "75%         2.000000       0.000000       0.000000  \n",
       "max       686.000000     284.000000       4.000000  "
      ]
     },
     "execution_count": 217,
     "metadata": {},
     "output_type": "execute_result"
    }
   ],
   "source": [
    "cust_browse_df = cust_browse_df.groupby(['CUST_NO']).sum()\n",
    "cust_browse_df.describe()"
   ]
  },
  {
   "cell_type": "code",
   "execution_count": 218,
   "metadata": {},
   "outputs": [],
   "source": [
    "del_col = ['s', 'wgdqth', 'gpda', 'fgmo']\n",
    "for col in del_col:\n",
    "    del cust_browse_df[col]"
   ]
  },
  {
   "cell_type": "code",
   "execution_count": 219,
   "metadata": {},
   "outputs": [],
   "source": [
    "####################################################"
   ]
  },
  {
   "cell_type": "code",
   "execution_count": 220,
   "metadata": {},
   "outputs": [
    {
     "data": {
      "text/plain": [
       "(array([1.94901e+05, 6.50000e+01, 2.10000e+01, 3.00000e+00, 1.00000e+00,\n",
       "        3.00000e+00, 4.00000e+00, 1.00000e+00, 0.00000e+00, 1.00000e+00]),\n",
       " array([-1.22874489e-01,  1.45463722e+01,  2.92156189e+01,  4.38848656e+01,\n",
       "         5.85541123e+01,  7.32233590e+01,  8.78926057e+01,  1.02561852e+02,\n",
       "         1.17231099e+02,  1.31900346e+02,  1.46569592e+02]),\n",
       " <a list of 10 Patch objects>)"
      ]
     },
     "execution_count": 220,
     "metadata": {},
     "output_type": "execute_result"
    },
    {
     "data": {
      "image/png": "[encoded data removed]",
      "text/plain": [
       "<Figure size 432x288 with 1 Axes>"
      ]
     },
     "metadata": {
      "needs_background": "light"
     },
     "output_type": "display_data"
    }
   ],
   "source": [
    "# edrn(39612=0);gygrt(93670=0)    ;s(171427=0)\n",
    "# pd.get_dummies(cust_browse_df['edrn']).sum()\n",
    "plt.figure()\n",
    "\n",
    "\n",
    "plt.hist(np.log(cust_browse_df['edrn'].values + 0.1))"
   ]
  },
  {
   "cell_type": "code",
   "execution_count": 224,
   "metadata": {},
   "outputs": [],
   "source": [
    "cust_browse_df['browse_edrn'] = np.log(cust_browse_df['edrn'].values + 0.1)\n",
    "del cust_browse_df['edrn']"
   ]
  },
  {
   "cell_type": "code",
   "execution_count": 225,
   "metadata": {},
   "outputs": [],
   "source": [
    "#########################################################"
   ]
  },
  {
   "cell_type": "code",
   "execution_count": 226,
   "metadata": {},
   "outputs": [
    {
     "data": {
      "text/plain": [
       "(array([9.3670e+04, 0.0000e+00, 4.9876e+04, 3.0330e+04, 1.5081e+04,\n",
       "        4.8180e+03, 1.1310e+03, 8.6000e+01, 7.0000e+00, 1.0000e+00]),\n",
       " array([-2.30258509, -1.41922424, -0.5358634 ,  0.34749745,  1.2308583 ,\n",
       "         2.11421915,  2.99758   ,  3.88094084,  4.76430169,  5.64766254,\n",
       "         6.53102339]),\n",
       " <a list of 10 Patch objects>)"
      ]
     },
     "execution_count": 226,
     "metadata": {},
     "output_type": "execute_result"
    },
    {
     "data": {
      "image/png": "[encoded data removed]",
      "text/plain": [
       "<Figure size 432x288 with 1 Axes>"
      ]
     },
     "metadata": {
      "needs_background": "light"
     },
     "output_type": "display_data"
    }
   ],
   "source": [
    "plt.hist(np.log(cust_browse_df['gygrt'].values + 0.1))"
   ]
  },
  {
   "cell_type": "code",
   "execution_count": 227,
   "metadata": {},
   "outputs": [],
   "source": [
    "cust_browse_df['browse_gygrt'] = np.log(cust_browse_df['gygrt'].values + 0.1)\n",
    "del cust_browse_df['gygrt']"
   ]
  },
  {
   "cell_type": "code",
   "execution_count": 228,
   "metadata": {},
   "outputs": [
    {
     "data": {
      "text/html": [
       "<div>\n",
       "<style scoped>\n",
       "    .dataframe tbody tr th:only-of-type {\n",
       "        vertical-align: middle;\n",
       "    }\n",
       "\n",
       "    .dataframe tbody tr th {\n",
       "        vertical-align: top;\n",
       "    }\n",
       "\n",
       "    .dataframe thead th {\n",
       "        text-align: right;\n",
       "    }\n",
       "</style>\n",
       "<table border=\"1\" class=\"dataframe\">\n",
       "  <thead>\n",
       "    <tr style=\"text-align: right;\">\n",
       "      <th></th>\n",
       "      <th>VISITDATE</th>\n",
       "      <th>browse_edrn</th>\n",
       "      <th>browse_gygrt</th>\n",
       "      <th>CUST_NO</th>\n",
       "    </tr>\n",
       "    <tr>\n",
       "      <th>CUST_NO</th>\n",
       "      <th></th>\n",
       "      <th></th>\n",
       "      <th></th>\n",
       "      <th></th>\n",
       "    </tr>\n",
       "  </thead>\n",
       "  <tbody>\n",
       "    <tr>\n",
       "      <th>---CHVW7DUN8SZLO</th>\n",
       "      <td>142636</td>\n",
       "      <td>2.646175</td>\n",
       "      <td>0.095310</td>\n",
       "      <td>---CHVW7DUN8SZLO</td>\n",
       "    </tr>\n",
       "    <tr>\n",
       "      <th>--1YNJZSSOXDF6UU</th>\n",
       "      <td>85422</td>\n",
       "      <td>1.131402</td>\n",
       "      <td>1.808289</td>\n",
       "      <td>--1YNJZSSOXDF6UU</td>\n",
       "    </tr>\n",
       "    <tr>\n",
       "      <th>--2YJM1RA5I5NQBC</th>\n",
       "      <td>9455</td>\n",
       "      <td>0.095310</td>\n",
       "      <td>-2.302585</td>\n",
       "      <td>--2YJM1RA5I5NQBC</td>\n",
       "    </tr>\n",
       "    <tr>\n",
       "      <th>--3HR4AMZR7EWEKS</th>\n",
       "      <td>18998</td>\n",
       "      <td>-2.302585</td>\n",
       "      <td>0.741937</td>\n",
       "      <td>--3HR4AMZR7EWEKS</td>\n",
       "    </tr>\n",
       "    <tr>\n",
       "      <th>--3NF5SUEEEAWOPI</th>\n",
       "      <td>266176</td>\n",
       "      <td>3.299534</td>\n",
       "      <td>0.095310</td>\n",
       "      <td>--3NF5SUEEEAWOPI</td>\n",
       "    </tr>\n",
       "  </tbody>\n",
       "</table>\n",
       "</div>"
      ],
      "text/plain": [
       "                  VISITDATE  browse_edrn  browse_gygrt           CUST_NO\n",
       "CUST_NO                                                                 \n",
       "---CHVW7DUN8SZLO     142636     2.646175      0.095310  ---CHVW7DUN8SZLO\n",
       "--1YNJZSSOXDF6UU      85422     1.131402      1.808289  --1YNJZSSOXDF6UU\n",
       "--2YJM1RA5I5NQBC       9455     0.095310     -2.302585  --2YJM1RA5I5NQBC\n",
       "--3HR4AMZR7EWEKS      18998    -2.302585      0.741937  --3HR4AMZR7EWEKS\n",
       "--3NF5SUEEEAWOPI     266176     3.299534      0.095310  --3NF5SUEEEAWOPI"
      ]
     },
     "execution_count": 228,
     "metadata": {},
     "output_type": "execute_result"
    }
   ],
   "source": [
    "cust_browse_df['CUST_NO'] = cust_browse_df.index # for merge format\n",
    "cust_browse_df.head()"
   ]
  },
  {
   "cell_type": "code",
   "execution_count": 229,
   "metadata": {},
   "outputs": [],
   "source": [
    "# 次數重要：這一層就好，處理數字\n",
    "# 種類重要: 下一層，找出瀏覽量多的種類"
   ]
  },
  {
   "cell_type": "markdown",
   "metadata": {},
   "source": [
    "# Custom persional data"
   ]
  },
  {
   "cell_type": "code",
   "execution_count": 353,
   "metadata": {},
   "outputs": [
    {
     "name": "stdout",
     "output_type": "stream",
     "text": [
      "The browse data shape : (187679, 8)\n"
     ]
    },
    {
     "data": {
      "text/html": [
       "<div>\n",
       "<style scoped>\n",
       "    .dataframe tbody tr th:only-of-type {\n",
       "        vertical-align: middle;\n",
       "    }\n",
       "\n",
       "    .dataframe tbody tr th {\n",
       "        vertical-align: top;\n",
       "    }\n",
       "\n",
       "    .dataframe thead th {\n",
       "        text-align: right;\n",
       "    }\n",
       "</style>\n",
       "<table border=\"1\" class=\"dataframe\">\n",
       "  <thead>\n",
       "    <tr style=\"text-align: right;\">\n",
       "      <th></th>\n",
       "      <th>CUST_NO</th>\n",
       "      <th>AGE</th>\n",
       "      <th>CHILDREN_CNT</th>\n",
       "      <th>CUST_START_DT</th>\n",
       "      <th>EDU_CODE</th>\n",
       "      <th>GENDER_CODE</th>\n",
       "      <th>INCOME_RANGE_CODE</th>\n",
       "      <th>WORK_MTHS</th>\n",
       "    </tr>\n",
       "  </thead>\n",
       "  <tbody>\n",
       "    <tr>\n",
       "      <th>0</th>\n",
       "      <td>UFUIMEGMK2KTIWI4</td>\n",
       "      <td>1</td>\n",
       "      <td>NaN</td>\n",
       "      <td>2.0</td>\n",
       "      <td>NaN</td>\n",
       "      <td>NaN</td>\n",
       "      <td>NaN</td>\n",
       "      <td>NaN</td>\n",
       "    </tr>\n",
       "    <tr>\n",
       "      <th>1</th>\n",
       "      <td>3HJN2X_LGBHBKILI</td>\n",
       "      <td>3</td>\n",
       "      <td>0.0</td>\n",
       "      <td>9393.0</td>\n",
       "      <td>NaN</td>\n",
       "      <td>NaN</td>\n",
       "      <td>1.0</td>\n",
       "      <td>NaN</td>\n",
       "    </tr>\n",
       "    <tr>\n",
       "      <th>2</th>\n",
       "      <td>MNEZK2O3OE-JHYBW</td>\n",
       "      <td>4</td>\n",
       "      <td>0.0</td>\n",
       "      <td>2912.0</td>\n",
       "      <td>3.0</td>\n",
       "      <td>M</td>\n",
       "      <td>2.0</td>\n",
       "      <td>2.0</td>\n",
       "    </tr>\n",
       "    <tr>\n",
       "      <th>3</th>\n",
       "      <td>W7ADZSWYXEMHB7JQ</td>\n",
       "      <td>4</td>\n",
       "      <td>0.0</td>\n",
       "      <td>8332.0</td>\n",
       "      <td>5.0</td>\n",
       "      <td>M</td>\n",
       "      <td>2.0</td>\n",
       "      <td>1.0</td>\n",
       "    </tr>\n",
       "    <tr>\n",
       "      <th>4</th>\n",
       "      <td>ODB6BA6ORHL2UYZE</td>\n",
       "      <td>4</td>\n",
       "      <td>0.0</td>\n",
       "      <td>744.0</td>\n",
       "      <td>3.0</td>\n",
       "      <td>M</td>\n",
       "      <td>2.0</td>\n",
       "      <td>1.0</td>\n",
       "    </tr>\n",
       "  </tbody>\n",
       "</table>\n",
       "</div>"
      ],
      "text/plain": [
       "            CUST_NO  AGE  CHILDREN_CNT  CUST_START_DT  EDU_CODE GENDER_CODE  \\\n",
       "0  UFUIMEGMK2KTIWI4    1           NaN            2.0       NaN         NaN   \n",
       "1  3HJN2X_LGBHBKILI    3           0.0         9393.0       NaN         NaN   \n",
       "2  MNEZK2O3OE-JHYBW    4           0.0         2912.0       3.0           M   \n",
       "3  W7ADZSWYXEMHB7JQ    4           0.0         8332.0       5.0           M   \n",
       "4  ODB6BA6ORHL2UYZE    4           0.0          744.0       3.0           M   \n",
       "\n",
       "   INCOME_RANGE_CODE  WORK_MTHS  \n",
       "0                NaN        NaN  \n",
       "1                1.0        NaN  \n",
       "2                2.0        2.0  \n",
       "3                2.0        1.0  \n",
       "4                2.0        1.0  "
      ]
     },
     "execution_count": 353,
     "metadata": {},
     "output_type": "execute_result"
    }
   ],
   "source": [
    "# TBN_CIF.csv' \n",
    "\n",
    "cust_persional_df = pd.read_csv('./TBN_CIF.csv')\n",
    "print(f'The browse data shape : {cust_persional_df.shape}')\n",
    "cust_persional_df.head()"
   ]
  },
  {
   "cell_type": "code",
   "execution_count": 354,
   "metadata": {},
   "outputs": [
    {
     "data": {
      "text/html": [
       "<div>\n",
       "<style scoped>\n",
       "    .dataframe tbody tr th:only-of-type {\n",
       "        vertical-align: middle;\n",
       "    }\n",
       "\n",
       "    .dataframe tbody tr th {\n",
       "        vertical-align: top;\n",
       "    }\n",
       "\n",
       "    .dataframe thead th {\n",
       "        text-align: right;\n",
       "    }\n",
       "</style>\n",
       "<table border=\"1\" class=\"dataframe\">\n",
       "  <thead>\n",
       "    <tr style=\"text-align: right;\">\n",
       "      <th></th>\n",
       "      <th>AGE</th>\n",
       "      <th>CHILDREN_CNT</th>\n",
       "      <th>CUST_START_DT</th>\n",
       "      <th>EDU_CODE</th>\n",
       "      <th>INCOME_RANGE_CODE</th>\n",
       "      <th>WORK_MTHS</th>\n",
       "    </tr>\n",
       "  </thead>\n",
       "  <tbody>\n",
       "    <tr>\n",
       "      <th>count</th>\n",
       "      <td>187679.000000</td>\n",
       "      <td>187247.000000</td>\n",
       "      <td>187679.000000</td>\n",
       "      <td>158691.000000</td>\n",
       "      <td>187297.000000</td>\n",
       "      <td>151489.000000</td>\n",
       "    </tr>\n",
       "    <tr>\n",
       "      <th>mean</th>\n",
       "      <td>2.511053</td>\n",
       "      <td>0.023509</td>\n",
       "      <td>6260.023998</td>\n",
       "      <td>3.632077</td>\n",
       "      <td>1.208236</td>\n",
       "      <td>1.058757</td>\n",
       "    </tr>\n",
       "    <tr>\n",
       "      <th>std</th>\n",
       "      <td>1.105938</td>\n",
       "      <td>0.224682</td>\n",
       "      <td>2385.903856</td>\n",
       "      <td>1.211771</td>\n",
       "      <td>0.536134</td>\n",
       "      <td>0.238984</td>\n",
       "    </tr>\n",
       "    <tr>\n",
       "      <th>min</th>\n",
       "      <td>1.000000</td>\n",
       "      <td>0.000000</td>\n",
       "      <td>0.000000</td>\n",
       "      <td>1.000000</td>\n",
       "      <td>1.000000</td>\n",
       "      <td>1.000000</td>\n",
       "    </tr>\n",
       "    <tr>\n",
       "      <th>25%</th>\n",
       "      <td>2.000000</td>\n",
       "      <td>0.000000</td>\n",
       "      <td>4296.000000</td>\n",
       "      <td>3.000000</td>\n",
       "      <td>1.000000</td>\n",
       "      <td>1.000000</td>\n",
       "    </tr>\n",
       "    <tr>\n",
       "      <th>50%</th>\n",
       "      <td>3.000000</td>\n",
       "      <td>0.000000</td>\n",
       "      <td>6747.000000</td>\n",
       "      <td>3.000000</td>\n",
       "      <td>1.000000</td>\n",
       "      <td>1.000000</td>\n",
       "    </tr>\n",
       "    <tr>\n",
       "      <th>75%</th>\n",
       "      <td>3.000000</td>\n",
       "      <td>0.000000</td>\n",
       "      <td>8367.000000</td>\n",
       "      <td>5.000000</td>\n",
       "      <td>1.000000</td>\n",
       "      <td>1.000000</td>\n",
       "    </tr>\n",
       "    <tr>\n",
       "      <th>max</th>\n",
       "      <td>4.000000</td>\n",
       "      <td>10.000000</td>\n",
       "      <td>9567.000000</td>\n",
       "      <td>6.000000</td>\n",
       "      <td>4.000000</td>\n",
       "      <td>5.000000</td>\n",
       "    </tr>\n",
       "  </tbody>\n",
       "</table>\n",
       "</div>"
      ],
      "text/plain": [
       "                 AGE   CHILDREN_CNT  CUST_START_DT       EDU_CODE  \\\n",
       "count  187679.000000  187247.000000  187679.000000  158691.000000   \n",
       "mean        2.511053       0.023509    6260.023998       3.632077   \n",
       "std         1.105938       0.224682    2385.903856       1.211771   \n",
       "min         1.000000       0.000000       0.000000       1.000000   \n",
       "25%         2.000000       0.000000    4296.000000       3.000000   \n",
       "50%         3.000000       0.000000    6747.000000       3.000000   \n",
       "75%         3.000000       0.000000    8367.000000       5.000000   \n",
       "max         4.000000      10.000000    9567.000000       6.000000   \n",
       "\n",
       "       INCOME_RANGE_CODE      WORK_MTHS  \n",
       "count      187297.000000  151489.000000  \n",
       "mean            1.208236       1.058757  \n",
       "std             0.536134       0.238984  \n",
       "min             1.000000       1.000000  \n",
       "25%             1.000000       1.000000  \n",
       "50%             1.000000       1.000000  \n",
       "75%             1.000000       1.000000  \n",
       "max             4.000000       5.000000  "
      ]
     },
     "execution_count": 354,
     "metadata": {},
     "output_type": "execute_result"
    }
   ],
   "source": [
    "cust_persional_df.describe()"
   ]
  },
  {
   "cell_type": "code",
   "execution_count": 355,
   "metadata": {},
   "outputs": [
    {
     "data": {
      "text/plain": [
       "WORK_MTHS            36190\n",
       "EDU_CODE             28988\n",
       "GENDER_CODE           1994\n",
       "CHILDREN_CNT           432\n",
       "INCOME_RANGE_CODE      382\n",
       "CUST_START_DT            0\n",
       "AGE                      0\n",
       "CUST_NO                  0\n",
       "dtype: int64"
      ]
     },
     "execution_count": 355,
     "metadata": {},
     "output_type": "execute_result"
    }
   ],
   "source": [
    "# Check missing data\n",
    "cust_persional_df.isnull().sum().sort_values(ascending=False)"
   ]
  },
  {
   "cell_type": "code",
   "execution_count": 356,
   "metadata": {},
   "outputs": [
    {
     "data": {
      "text/plain": [
       "<matplotlib.axes._subplots.AxesSubplot at 0x7fa2a6196a20>"
      ]
     },
     "execution_count": 356,
     "metadata": {},
     "output_type": "execute_result"
    },
    {
     "data": {
      "image/png": "[encoded data removed]",
      "text/plain": [
       "<Figure size 1800x720 with 2 Axes>"
      ]
     },
     "metadata": {
      "needs_background": "light"
     },
     "output_type": "display_data"
    }
   ],
   "source": [
    "import missingno as msno\n",
    "msno.matrix(cust_persional_df,)"
   ]
  },
  {
   "cell_type": "code",
   "execution_count": 357,
   "metadata": {},
   "outputs": [
    {
     "data": {
      "text/html": [
       "<div>\n",
       "<style scoped>\n",
       "    .dataframe tbody tr th:only-of-type {\n",
       "        vertical-align: middle;\n",
       "    }\n",
       "\n",
       "    .dataframe tbody tr th {\n",
       "        vertical-align: top;\n",
       "    }\n",
       "\n",
       "    .dataframe thead th {\n",
       "        text-align: right;\n",
       "    }\n",
       "</style>\n",
       "<table border=\"1\" class=\"dataframe\">\n",
       "  <thead>\n",
       "    <tr style=\"text-align: right;\">\n",
       "      <th></th>\n",
       "      <th>AGE</th>\n",
       "      <th>CHILDREN_CNT</th>\n",
       "      <th>CUST_START_DT</th>\n",
       "      <th>EDU_CODE</th>\n",
       "      <th>INCOME_RANGE_CODE</th>\n",
       "      <th>WORK_MTHS</th>\n",
       "    </tr>\n",
       "  </thead>\n",
       "  <tbody>\n",
       "    <tr>\n",
       "      <th>AGE</th>\n",
       "      <td>1.000000</td>\n",
       "      <td>0.091791</td>\n",
       "      <td>-0.563027</td>\n",
       "      <td>0.070585</td>\n",
       "      <td>0.265346</td>\n",
       "      <td>0.216340</td>\n",
       "    </tr>\n",
       "    <tr>\n",
       "      <th>CHILDREN_CNT</th>\n",
       "      <td>0.091791</td>\n",
       "      <td>1.000000</td>\n",
       "      <td>-0.059024</td>\n",
       "      <td>0.039265</td>\n",
       "      <td>-0.019503</td>\n",
       "      <td>0.021085</td>\n",
       "    </tr>\n",
       "    <tr>\n",
       "      <th>CUST_START_DT</th>\n",
       "      <td>-0.563027</td>\n",
       "      <td>-0.059024</td>\n",
       "      <td>1.000000</td>\n",
       "      <td>-0.009531</td>\n",
       "      <td>-0.207091</td>\n",
       "      <td>-0.088363</td>\n",
       "    </tr>\n",
       "    <tr>\n",
       "      <th>EDU_CODE</th>\n",
       "      <td>0.070585</td>\n",
       "      <td>0.039265</td>\n",
       "      <td>-0.009531</td>\n",
       "      <td>1.000000</td>\n",
       "      <td>-0.086145</td>\n",
       "      <td>-0.002276</td>\n",
       "    </tr>\n",
       "    <tr>\n",
       "      <th>INCOME_RANGE_CODE</th>\n",
       "      <td>0.265346</td>\n",
       "      <td>-0.019503</td>\n",
       "      <td>-0.207091</td>\n",
       "      <td>-0.086145</td>\n",
       "      <td>1.000000</td>\n",
       "      <td>0.122250</td>\n",
       "    </tr>\n",
       "    <tr>\n",
       "      <th>WORK_MTHS</th>\n",
       "      <td>0.216340</td>\n",
       "      <td>0.021085</td>\n",
       "      <td>-0.088363</td>\n",
       "      <td>-0.002276</td>\n",
       "      <td>0.122250</td>\n",
       "      <td>1.000000</td>\n",
       "    </tr>\n",
       "  </tbody>\n",
       "</table>\n",
       "</div>"
      ],
      "text/plain": [
       "                        AGE  CHILDREN_CNT  CUST_START_DT  EDU_CODE  \\\n",
       "AGE                1.000000      0.091791      -0.563027  0.070585   \n",
       "CHILDREN_CNT       0.091791      1.000000      -0.059024  0.039265   \n",
       "CUST_START_DT     -0.563027     -0.059024       1.000000 -0.009531   \n",
       "EDU_CODE           0.070585      0.039265      -0.009531  1.000000   \n",
       "INCOME_RANGE_CODE  0.265346     -0.019503      -0.207091 -0.086145   \n",
       "WORK_MTHS          0.216340      0.021085      -0.088363 -0.002276   \n",
       "\n",
       "                   INCOME_RANGE_CODE  WORK_MTHS  \n",
       "AGE                         0.265346   0.216340  \n",
       "CHILDREN_CNT               -0.019503   0.021085  \n",
       "CUST_START_DT              -0.207091  -0.088363  \n",
       "EDU_CODE                   -0.086145  -0.002276  \n",
       "INCOME_RANGE_CODE           1.000000   0.122250  \n",
       "WORK_MTHS                   0.122250   1.000000  "
      ]
     },
     "execution_count": 357,
     "metadata": {},
     "output_type": "execute_result"
    }
   ],
   "source": [
    "cust_persional_df.corr()"
   ]
  },
  {
   "cell_type": "code",
   "execution_count": 358,
   "metadata": {},
   "outputs": [
    {
     "data": {
      "text/plain": [
       "<matplotlib.axes._subplots.AxesSubplot at 0x7fa2a616aa20>"
      ]
     },
     "execution_count": 358,
     "metadata": {},
     "output_type": "execute_result"
    },
    {
     "data": {
      "image/png": "[encoded data removed]",
      "text/plain": [
       "<Figure size 1440x864 with 1 Axes>"
      ]
     },
     "metadata": {
      "needs_background": "light"
     },
     "output_type": "display_data"
    }
   ],
   "source": [
    "msno.heatmap(cust_persional_df,)"
   ]
  },
  {
   "cell_type": "code",
   "execution_count": 359,
   "metadata": {},
   "outputs": [
    {
     "data": {
      "text/plain": [
       "<matplotlib.axes._subplots.AxesSubplot at 0x7fa2a5bbd710>"
      ]
     },
     "execution_count": 359,
     "metadata": {},
     "output_type": "execute_result"
    },
    {
     "data": {
      "image/png": "[encoded data removed]",
      "text/plain": [
       "<Figure size 1800x720 with 1 Axes>"
      ]
     },
     "metadata": {
      "needs_background": "light"
     },
     "output_type": "display_data"
    }
   ],
   "source": [
    "msno.dendrogram(cust_persional_df,)"
   ]
  },
  {
   "cell_type": "code",
   "execution_count": 360,
   "metadata": {},
   "outputs": [
    {
     "name": "stdout",
     "output_type": "stream",
     "text": [
      "AGE\n"
     ]
    },
    {
     "data": {
      "text/plain": [
       "1    45810\n",
       "2    45661\n",
       "3    50692\n",
       "4    45516\n",
       "dtype: int64"
      ]
     },
     "execution_count": 360,
     "metadata": {},
     "output_type": "execute_result"
    }
   ],
   "source": [
    "# AGE\n",
    "print('AGE')\n",
    "age_sum = pd.get_dummies(cust_persional_df['AGE'].values).sum()\n",
    "age_sum"
   ]
  },
  {
   "cell_type": "code",
   "execution_count": 361,
   "metadata": {},
   "outputs": [],
   "source": [
    "###################################################"
   ]
  },
  {
   "cell_type": "code",
   "execution_count": 362,
   "metadata": {},
   "outputs": [
    {
     "data": {
      "text/plain": [
       "(array([ 1975.,  5930., 10512., 17069., 23615., 16790., 16957., 25049.,\n",
       "        32016., 37766.]),\n",
       " array([   0. ,  956.7, 1913.4, 2870.1, 3826.8, 4783.5, 5740.2, 6696.9,\n",
       "        7653.6, 8610.3, 9567. ]),\n",
       " <a list of 10 Patch objects>)"
      ]
     },
     "execution_count": 362,
     "metadata": {},
     "output_type": "execute_result"
    },
    {
     "data": {
      "image/png": "[encoded data removed]",
      "text/plain": [
       "<Figure size 432x288 with 1 Axes>"
      ]
     },
     "metadata": {
      "needs_background": "light"
     },
     "output_type": "display_data"
    }
   ],
   "source": [
    "# View CUST_START_DT\n",
    "plt.hist(cust_persional_df['CUST_START_DT'].values)\n",
    "# range class "
   ]
  },
  {
   "cell_type": "code",
   "execution_count": null,
   "metadata": {},
   "outputs": [],
   "source": []
  },
  {
   "cell_type": "code",
   "execution_count": 363,
   "metadata": {},
   "outputs": [],
   "source": [
    "\n",
    "bins = [-0.1, 4296, 6747 ,8367, 9568]\n",
    "\n",
    "cust_persional_df['START_DT_BINS'] = pd.cut(cust_persional_df['CUST_START_DT'].values, \n",
    "                                            bins,\n",
    "                                            labels=[.4, .3, .2, .1],)\n",
    "del cust_persional_df['CUST_START_DT']\n",
    "#pd.value_counts(pd.cut(cust_persional_df['CUST_START_DT'].values, bins))"
   ]
  },
  {
   "cell_type": "code",
   "execution_count": null,
   "metadata": {},
   "outputs": [],
   "source": []
  },
  {
   "cell_type": "code",
   "execution_count": 364,
   "metadata": {},
   "outputs": [],
   "source": [
    "#################################################"
   ]
  },
  {
   "cell_type": "code",
   "execution_count": 365,
   "metadata": {},
   "outputs": [
    {
     "name": "stdout",
     "output_type": "stream",
     "text": [
      "0.023509054884724455\n",
      "this feature almost 0\n"
     ]
    }
   ],
   "source": [
    "# CHILDREN_CNT\n",
    "print(cust_persional_df['CHILDREN_CNT'].sum()/cust_persional_df['CHILDREN_CNT'].count())\n",
    "del cust_persional_df['CHILDREN_CNT'] # almost zero value\n",
    "print('this feature almost 0')"
   ]
  },
  {
   "cell_type": "code",
   "execution_count": 366,
   "metadata": {},
   "outputs": [],
   "source": [
    "#################################################"
   ]
  },
  {
   "cell_type": "code",
   "execution_count": 367,
   "metadata": {},
   "outputs": [
    {
     "name": "stdout",
     "output_type": "stream",
     "text": [
      "F%:  0.5588531481945236\n",
      "miss data only 0.01%, give F maybe is a convenience way!!\n"
     ]
    }
   ],
   "source": [
    "# View Gender_CODE\n",
    "print('F%: ',sum(cust_persional_df['GENDER_CODE'] == 'F') / cust_persional_df['GENDER_CODE'].shape[0])\n",
    "print('miss data only 0.01%, give F maybe is a convenience way!!')\n",
    "\n",
    "# Fill gender missing data by 'F'\n",
    "temp_arr = cust_persional_df['GENDER_CODE'].values == 'M'\n",
    "cust_persional_df['GENDER_CODE'] = temp_arr + 0\n",
    "del temp_arr"
   ]
  },
  {
   "cell_type": "code",
   "execution_count": 368,
   "metadata": {},
   "outputs": [],
   "source": [
    "##################################################"
   ]
  },
  {
   "cell_type": "code",
   "execution_count": 369,
   "metadata": {},
   "outputs": [
    {
     "name": "stdout",
     "output_type": "stream",
     "text": [
      "INCOME_RANGE_CODE\n"
     ]
    },
    {
     "data": {
      "text/plain": [
       "1.0    157071\n",
       "2.0     24152\n",
       "3.0      3372\n",
       "4.0      2702\n",
       "dtype: int64"
      ]
     },
     "execution_count": 369,
     "metadata": {},
     "output_type": "execute_result"
    }
   ],
   "source": [
    "# INCOME_RANGE_CODE\n",
    "print('INCOME_RANGE_CODE')\n",
    "incom_sum = pd.get_dummies(cust_persional_df['INCOME_RANGE_CODE'].values).sum()\n",
    "incom_sum"
   ]
  },
  {
   "cell_type": "code",
   "execution_count": 370,
   "metadata": {},
   "outputs": [
    {
     "data": {
      "text/plain": [
       "<BarContainer object of 4 artists>"
      ]
     },
     "execution_count": 370,
     "metadata": {},
     "output_type": "execute_result"
    },
    {
     "data": {
      "image/png": "[encoded data removed]",
      "text/plain": [
       "<Figure size 432x288 with 1 Axes>"
      ]
     },
     "metadata": {
      "needs_background": "light"
     },
     "output_type": "display_data"
    }
   ],
   "source": [
    "plt.figure()\n",
    "plt.bar(incom_sum.index, list(incom_sum))"
   ]
  },
  {
   "cell_type": "code",
   "execution_count": 371,
   "metadata": {},
   "outputs": [],
   "source": [
    "cust_persional_df['INCOME_RANGE_CODE'] = np.array(cust_persional_df['AGE'] * \n",
    "                                                  cust_persional_df['INCOME_RANGE_CODE'].isnull()+\n",
    "                                                 cust_persional_df['INCOME_RANGE_CODE'].fillna(0))"
   ]
  },
  {
   "cell_type": "code",
   "execution_count": 372,
   "metadata": {},
   "outputs": [],
   "source": [
    "####################################################"
   ]
  },
  {
   "cell_type": "code",
   "execution_count": 373,
   "metadata": {},
   "outputs": [
    {
     "data": {
      "text/plain": [
       "1.0     1986\n",
       "2.0    20252\n",
       "3.0    67722\n",
       "4.0    28982\n",
       "5.0    23700\n",
       "6.0    16049\n",
       "dtype: int64"
      ]
     },
     "execution_count": 373,
     "metadata": {},
     "output_type": "execute_result"
    }
   ],
   "source": [
    "# EDU_CODE\n",
    "pd.get_dummies(cust_persional_df['EDU_CODE']).sum()"
   ]
  },
  {
   "cell_type": "code",
   "execution_count": 374,
   "metadata": {},
   "outputs": [],
   "source": [
    "# Missing 常態分佈處理\n",
    "cust_persional_df['EDU_CODE'] = np.array(np.around(np.random.normal(3.632077, 1.211771, size=len(cust_persional_df['EDU_CODE']))) * \n",
    "                                          cust_persional_df['EDU_CODE'].isnull()+\n",
    "                                          cust_persional_df['EDU_CODE'].fillna(0))\n",
    "\n",
    "cust_persional_df['EDU_CODE'] = cust_persional_df['EDU_CODE'].replace([7., 8., 9., 10., 11., 12.,], 6.)\n",
    "cust_persional_df['EDU_CODE'] = cust_persional_df['EDU_CODE'].replace([0., -1., -2., -3., -4., -5.,], 1.)"
   ]
  },
  {
   "cell_type": "code",
   "execution_count": null,
   "metadata": {},
   "outputs": [],
   "source": []
  },
  {
   "cell_type": "code",
   "execution_count": 375,
   "metadata": {},
   "outputs": [],
   "source": [
    "###################################################"
   ]
  },
  {
   "cell_type": "code",
   "execution_count": 376,
   "metadata": {},
   "outputs": [
    {
     "data": {
      "text/plain": [
       "1.0    142705\n",
       "2.0      8684\n",
       "3.0        86\n",
       "4.0        11\n",
       "5.0         3\n",
       "dtype: int64"
      ]
     },
     "execution_count": 376,
     "metadata": {},
     "output_type": "execute_result"
    }
   ],
   "source": [
    "# View WORK_MTHS\n",
    "pd.get_dummies(cust_persional_df['WORK_MTHS']).sum()"
   ]
  },
  {
   "cell_type": "code",
   "execution_count": 377,
   "metadata": {},
   "outputs": [],
   "source": [
    "cust_persional_df['WORK_MTHS'] = np.array(cust_persional_df['INCOME_RANGE_CODE'] * \n",
    "                                          cust_persional_df['WORK_MTHS'].isnull()+\n",
    "                                          cust_persional_df['WORK_MTHS'].fillna(0))"
   ]
  },
  {
   "cell_type": "code",
   "execution_count": 378,
   "metadata": {},
   "outputs": [],
   "source": [
    "cust_persional_df['WORK_MTHS'] = cust_persional_df['WORK_MTHS'].replace([5., 4,], 3.)"
   ]
  },
  {
   "cell_type": "code",
   "execution_count": 379,
   "metadata": {},
   "outputs": [
    {
     "data": {
      "text/plain": [
       "START_DT_BINS        0\n",
       "WORK_MTHS            0\n",
       "INCOME_RANGE_CODE    0\n",
       "GENDER_CODE          0\n",
       "EDU_CODE             0\n",
       "AGE                  0\n",
       "CUST_NO              0\n",
       "dtype: int64"
      ]
     },
     "execution_count": 379,
     "metadata": {},
     "output_type": "execute_result"
    }
   ],
   "source": [
    "# Check missing data\n",
    "cust_persional_df.isnull().sum().sort_values(ascending=False)"
   ]
  },
  {
   "cell_type": "code",
   "execution_count": 380,
   "metadata": {},
   "outputs": [
    {
     "data": {
      "text/html": [
       "<div>\n",
       "<style scoped>\n",
       "    .dataframe tbody tr th:only-of-type {\n",
       "        vertical-align: middle;\n",
       "    }\n",
       "\n",
       "    .dataframe tbody tr th {\n",
       "        vertical-align: top;\n",
       "    }\n",
       "\n",
       "    .dataframe thead th {\n",
       "        text-align: right;\n",
       "    }\n",
       "</style>\n",
       "<table border=\"1\" class=\"dataframe\">\n",
       "  <thead>\n",
       "    <tr style=\"text-align: right;\">\n",
       "      <th></th>\n",
       "      <th>CUST_NO</th>\n",
       "      <th>AGE</th>\n",
       "      <th>EDU_CODE</th>\n",
       "      <th>GENDER_CODE</th>\n",
       "      <th>INCOME_RANGE_CODE</th>\n",
       "      <th>WORK_MTHS</th>\n",
       "      <th>START_DT_BINS</th>\n",
       "    </tr>\n",
       "  </thead>\n",
       "  <tbody>\n",
       "    <tr>\n",
       "      <th>0</th>\n",
       "      <td>UFUIMEGMK2KTIWI4</td>\n",
       "      <td>1</td>\n",
       "      <td>4.0</td>\n",
       "      <td>0</td>\n",
       "      <td>1.0</td>\n",
       "      <td>1.0</td>\n",
       "      <td>0.4</td>\n",
       "    </tr>\n",
       "    <tr>\n",
       "      <th>1</th>\n",
       "      <td>3HJN2X_LGBHBKILI</td>\n",
       "      <td>3</td>\n",
       "      <td>3.0</td>\n",
       "      <td>0</td>\n",
       "      <td>1.0</td>\n",
       "      <td>1.0</td>\n",
       "      <td>0.1</td>\n",
       "    </tr>\n",
       "    <tr>\n",
       "      <th>2</th>\n",
       "      <td>MNEZK2O3OE-JHYBW</td>\n",
       "      <td>4</td>\n",
       "      <td>3.0</td>\n",
       "      <td>1</td>\n",
       "      <td>2.0</td>\n",
       "      <td>2.0</td>\n",
       "      <td>0.4</td>\n",
       "    </tr>\n",
       "    <tr>\n",
       "      <th>3</th>\n",
       "      <td>W7ADZSWYXEMHB7JQ</td>\n",
       "      <td>4</td>\n",
       "      <td>5.0</td>\n",
       "      <td>1</td>\n",
       "      <td>2.0</td>\n",
       "      <td>1.0</td>\n",
       "      <td>0.2</td>\n",
       "    </tr>\n",
       "    <tr>\n",
       "      <th>4</th>\n",
       "      <td>ODB6BA6ORHL2UYZE</td>\n",
       "      <td>4</td>\n",
       "      <td>3.0</td>\n",
       "      <td>1</td>\n",
       "      <td>2.0</td>\n",
       "      <td>1.0</td>\n",
       "      <td>0.4</td>\n",
       "    </tr>\n",
       "  </tbody>\n",
       "</table>\n",
       "</div>"
      ],
      "text/plain": [
       "            CUST_NO  AGE  EDU_CODE  GENDER_CODE  INCOME_RANGE_CODE  WORK_MTHS  \\\n",
       "0  UFUIMEGMK2KTIWI4    1       4.0            0                1.0        1.0   \n",
       "1  3HJN2X_LGBHBKILI    3       3.0            0                1.0        1.0   \n",
       "2  MNEZK2O3OE-JHYBW    4       3.0            1                2.0        2.0   \n",
       "3  W7ADZSWYXEMHB7JQ    4       5.0            1                2.0        1.0   \n",
       "4  ODB6BA6ORHL2UYZE    4       3.0            1                2.0        1.0   \n",
       "\n",
       "  START_DT_BINS  \n",
       "0           0.4  \n",
       "1           0.1  \n",
       "2           0.4  \n",
       "3           0.2  \n",
       "4           0.4  "
      ]
     },
     "execution_count": 380,
     "metadata": {},
     "output_type": "execute_result"
    }
   ],
   "source": [
    "cust_persional_df.head()"
   ]
  },
  {
   "cell_type": "code",
   "execution_count": 381,
   "metadata": {},
   "outputs": [
    {
     "data": {
      "text/plain": [
       "numpy.float64"
      ]
     },
     "execution_count": 381,
     "metadata": {},
     "output_type": "execute_result"
    }
   ],
   "source": [
    "type(cust_persional_df['START_DT_BINS'][0])"
   ]
  },
  {
   "cell_type": "code",
   "execution_count": null,
   "metadata": {},
   "outputs": [],
   "source": [
    "# standardzation\n",
    "std_col = ['AGE', 'EDU_CODE', 'INCOME_RANGE_CODE', 'WORK_MTHS']\n",
    "for col in std_col:\n",
    "    print(col)\n",
    "    cust_persional_df[col] = preprocessing.scale(cust_persional_df[col].values)"
   ]
  },
  {
   "cell_type": "code",
   "execution_count": 383,
   "metadata": {},
   "outputs": [
    {
     "data": {
      "text/html": [
       "<div>\n",
       "<style scoped>\n",
       "    .dataframe tbody tr th:only-of-type {\n",
       "        vertical-align: middle;\n",
       "    }\n",
       "\n",
       "    .dataframe tbody tr th {\n",
       "        vertical-align: top;\n",
       "    }\n",
       "\n",
       "    .dataframe thead th {\n",
       "        text-align: right;\n",
       "    }\n",
       "</style>\n",
       "<table border=\"1\" class=\"dataframe\">\n",
       "  <thead>\n",
       "    <tr style=\"text-align: right;\">\n",
       "      <th></th>\n",
       "      <th>CUST_NO</th>\n",
       "      <th>AGE</th>\n",
       "      <th>EDU_CODE</th>\n",
       "      <th>GENDER_CODE</th>\n",
       "      <th>INCOME_RANGE_CODE</th>\n",
       "      <th>WORK_MTHS</th>\n",
       "      <th>START_DT_BINS</th>\n",
       "    </tr>\n",
       "  </thead>\n",
       "  <tbody>\n",
       "    <tr>\n",
       "      <th>0</th>\n",
       "      <td>UFUIMEGMK2KTIWI4</td>\n",
       "      <td>-1.366313</td>\n",
       "      <td>0.306842</td>\n",
       "      <td>0</td>\n",
       "      <td>-0.389091</td>\n",
       "      <td>-0.222357</td>\n",
       "      <td>0.4</td>\n",
       "    </tr>\n",
       "    <tr>\n",
       "      <th>1</th>\n",
       "      <td>3HJN2X_LGBHBKILI</td>\n",
       "      <td>0.442111</td>\n",
       "      <td>-0.518944</td>\n",
       "      <td>0</td>\n",
       "      <td>-0.389091</td>\n",
       "      <td>-0.222357</td>\n",
       "      <td>0.1</td>\n",
       "    </tr>\n",
       "    <tr>\n",
       "      <th>2</th>\n",
       "      <td>MNEZK2O3OE-JHYBW</td>\n",
       "      <td>1.346323</td>\n",
       "      <td>-0.518944</td>\n",
       "      <td>1</td>\n",
       "      <td>1.468985</td>\n",
       "      <td>4.154785</td>\n",
       "      <td>0.4</td>\n",
       "    </tr>\n",
       "    <tr>\n",
       "      <th>3</th>\n",
       "      <td>W7ADZSWYXEMHB7JQ</td>\n",
       "      <td>1.346323</td>\n",
       "      <td>1.132628</td>\n",
       "      <td>1</td>\n",
       "      <td>1.468985</td>\n",
       "      <td>-0.222357</td>\n",
       "      <td>0.2</td>\n",
       "    </tr>\n",
       "    <tr>\n",
       "      <th>4</th>\n",
       "      <td>ODB6BA6ORHL2UYZE</td>\n",
       "      <td>1.346323</td>\n",
       "      <td>-0.518944</td>\n",
       "      <td>1</td>\n",
       "      <td>1.468985</td>\n",
       "      <td>-0.222357</td>\n",
       "      <td>0.4</td>\n",
       "    </tr>\n",
       "  </tbody>\n",
       "</table>\n",
       "</div>"
      ],
      "text/plain": [
       "            CUST_NO       AGE  EDU_CODE  GENDER_CODE  INCOME_RANGE_CODE  \\\n",
       "0  UFUIMEGMK2KTIWI4 -1.366313  0.306842            0          -0.389091   \n",
       "1  3HJN2X_LGBHBKILI  0.442111 -0.518944            0          -0.389091   \n",
       "2  MNEZK2O3OE-JHYBW  1.346323 -0.518944            1           1.468985   \n",
       "3  W7ADZSWYXEMHB7JQ  1.346323  1.132628            1           1.468985   \n",
       "4  ODB6BA6ORHL2UYZE  1.346323 -0.518944            1           1.468985   \n",
       "\n",
       "   WORK_MTHS START_DT_BINS  \n",
       "0  -0.222357           0.4  \n",
       "1  -0.222357           0.1  \n",
       "2   4.154785           0.4  \n",
       "3  -0.222357           0.2  \n",
       "4  -0.222357           0.4  "
      ]
     },
     "execution_count": 383,
     "metadata": {},
     "output_type": "execute_result"
    }
   ],
   "source": [
    "cust_persional_df.head()"
   ]
  },
  {
   "cell_type": "code",
   "execution_count": null,
   "metadata": {},
   "outputs": [],
   "source": []
  },
  {
   "cell_type": "code",
   "execution_count": null,
   "metadata": {},
   "outputs": [],
   "source": []
  },
  {
   "cell_type": "markdown",
   "metadata": {},
   "source": [
    "# CC Data (as Feature)"
   ]
  },
  {
   "cell_type": "code",
   "execution_count": 384,
   "metadata": {},
   "outputs": [
    {
     "data": {
      "text/html": [
       "<div>\n",
       "<style scoped>\n",
       "    .dataframe tbody tr th:only-of-type {\n",
       "        vertical-align: middle;\n",
       "    }\n",
       "\n",
       "    .dataframe tbody tr th {\n",
       "        vertical-align: top;\n",
       "    }\n",
       "\n",
       "    .dataframe thead th {\n",
       "        text-align: right;\n",
       "    }\n",
       "</style>\n",
       "<table border=\"1\" class=\"dataframe\">\n",
       "  <thead>\n",
       "    <tr style=\"text-align: right;\">\n",
       "      <th></th>\n",
       "      <th>CUST_NO</th>\n",
       "      <th>TXN_DT</th>\n",
       "    </tr>\n",
       "  </thead>\n",
       "  <tbody>\n",
       "    <tr>\n",
       "      <th>0</th>\n",
       "      <td>8H_N_K5ICM4NU7OG</td>\n",
       "      <td>9519</td>\n",
       "    </tr>\n",
       "    <tr>\n",
       "      <th>1</th>\n",
       "      <td>HXD9GCY3SPIYLJS0</td>\n",
       "      <td>9451</td>\n",
       "    </tr>\n",
       "    <tr>\n",
       "      <th>2</th>\n",
       "      <td>KSBOZ-TBPUDD9NMO</td>\n",
       "      <td>9502</td>\n",
       "    </tr>\n",
       "    <tr>\n",
       "      <th>3</th>\n",
       "      <td>MU8ROCNFDGSL0HJC</td>\n",
       "      <td>9549</td>\n",
       "    </tr>\n",
       "    <tr>\n",
       "      <th>4</th>\n",
       "      <td>RGZZAUSNHNXXESM4</td>\n",
       "      <td>9561</td>\n",
       "    </tr>\n",
       "  </tbody>\n",
       "</table>\n",
       "</div>"
      ],
      "text/plain": [
       "            CUST_NO  TXN_DT\n",
       "0  8H_N_K5ICM4NU7OG    9519\n",
       "1  HXD9GCY3SPIYLJS0    9451\n",
       "2  KSBOZ-TBPUDD9NMO    9502\n",
       "3  MU8ROCNFDGSL0HJC    9549\n",
       "4  RGZZAUSNHNXXESM4    9561"
      ]
     },
     "execution_count": 384,
     "metadata": {},
     "output_type": "execute_result"
    }
   ],
   "source": [
    "CC_df = pd.read_csv('TBN_CC_APPLY.csv')\n",
    "CC_df.head()"
   ]
  },
  {
   "cell_type": "code",
   "execution_count": 385,
   "metadata": {},
   "outputs": [
    {
     "data": {
      "text/html": [
       "<div>\n",
       "<style scoped>\n",
       "    .dataframe tbody tr th:only-of-type {\n",
       "        vertical-align: middle;\n",
       "    }\n",
       "\n",
       "    .dataframe tbody tr th {\n",
       "        vertical-align: top;\n",
       "    }\n",
       "\n",
       "    .dataframe thead th {\n",
       "        text-align: right;\n",
       "    }\n",
       "</style>\n",
       "<table border=\"1\" class=\"dataframe\">\n",
       "  <thead>\n",
       "    <tr style=\"text-align: right;\">\n",
       "      <th></th>\n",
       "      <th>count</th>\n",
       "    </tr>\n",
       "  </thead>\n",
       "  <tbody>\n",
       "    <tr>\n",
       "      <th>count</th>\n",
       "      <td>44112.000000</td>\n",
       "    </tr>\n",
       "    <tr>\n",
       "      <th>mean</th>\n",
       "      <td>1.233066</td>\n",
       "    </tr>\n",
       "    <tr>\n",
       "      <th>std</th>\n",
       "      <td>0.721128</td>\n",
       "    </tr>\n",
       "    <tr>\n",
       "      <th>min</th>\n",
       "      <td>1.000000</td>\n",
       "    </tr>\n",
       "    <tr>\n",
       "      <th>25%</th>\n",
       "      <td>1.000000</td>\n",
       "    </tr>\n",
       "    <tr>\n",
       "      <th>50%</th>\n",
       "      <td>1.000000</td>\n",
       "    </tr>\n",
       "    <tr>\n",
       "      <th>75%</th>\n",
       "      <td>1.000000</td>\n",
       "    </tr>\n",
       "    <tr>\n",
       "      <th>max</th>\n",
       "      <td>30.000000</td>\n",
       "    </tr>\n",
       "  </tbody>\n",
       "</table>\n",
       "</div>"
      ],
      "text/plain": [
       "              count\n",
       "count  44112.000000\n",
       "mean       1.233066\n",
       "std        0.721128\n",
       "min        1.000000\n",
       "25%        1.000000\n",
       "50%        1.000000\n",
       "75%        1.000000\n",
       "max       30.000000"
      ]
     },
     "execution_count": 385,
     "metadata": {},
     "output_type": "execute_result"
    }
   ],
   "source": [
    "CC_count = CC_df.groupby(['CUST_NO']).count()\n",
    "CC_count = CC_count.rename(columns={'TXN_DT':'count'})\n",
    "CC_count.describe()"
   ]
  },
  {
   "cell_type": "code",
   "execution_count": 387,
   "metadata": {},
   "outputs": [
    {
     "data": {
      "text/plain": [
       "(array([3.7173e+04, 5.1920e+03, 0.0000e+00, 1.4550e+03, 1.0700e+02,\n",
       "        1.1500e+02, 5.2000e+01, 1.2000e+01, 5.0000e+00, 1.0000e+00]),\n",
       " array([0.09531018, 0.42623168, 0.75715318, 1.08807468, 1.41899618,\n",
       "        1.74991768, 2.08083917, 2.41176067, 2.74268217, 3.07360367,\n",
       "        3.40452517]),\n",
       " <a list of 10 Patch objects>)"
      ]
     },
     "execution_count": 387,
     "metadata": {},
     "output_type": "execute_result"
    },
    {
     "data": {
      "image/png": "[encoded data removed]",
      "text/plain": [
       "<Figure size 432x288 with 1 Axes>"
      ]
     },
     "metadata": {
      "needs_background": "light"
     },
     "output_type": "display_data"
    }
   ],
   "source": [
    "plt.figure()\n",
    "plt.hist(np.log(CC_count['count'].values+0.1))"
   ]
  },
  {
   "cell_type": "code",
   "execution_count": 389,
   "metadata": {},
   "outputs": [
    {
     "data": {
      "text/plain": [
       "1     37173\n",
       "2      5192\n",
       "3       954\n",
       "4       501\n",
       "5       107\n",
       "6        96\n",
       "7        19\n",
       "8        29\n",
       "9         9\n",
       "10        8\n",
       "11        6\n",
       "12        8\n",
       "13        2\n",
       "14        1\n",
       "15        1\n",
       "16        1\n",
       "17        2\n",
       "18        2\n",
       "30        1\n",
       "dtype: int64"
      ]
     },
     "execution_count": 389,
     "metadata": {},
     "output_type": "execute_result"
    }
   ],
   "source": [
    "pd.get_dummies(CC_count['count']).sum()"
   ]
  },
  {
   "cell_type": "code",
   "execution_count": 438,
   "metadata": {},
   "outputs": [
    {
     "data": {
      "text/html": [
       "<div>\n",
       "<style scoped>\n",
       "    .dataframe tbody tr th:only-of-type {\n",
       "        vertical-align: middle;\n",
       "    }\n",
       "\n",
       "    .dataframe tbody tr th {\n",
       "        vertical-align: top;\n",
       "    }\n",
       "\n",
       "    .dataframe thead th {\n",
       "        text-align: right;\n",
       "    }\n",
       "</style>\n",
       "<table border=\"1\" class=\"dataframe\">\n",
       "  <thead>\n",
       "    <tr style=\"text-align: right;\">\n",
       "      <th></th>\n",
       "      <th>count</th>\n",
       "      <th>CUST_NO</th>\n",
       "    </tr>\n",
       "    <tr>\n",
       "      <th>CUST_NO</th>\n",
       "      <th></th>\n",
       "      <th></th>\n",
       "    </tr>\n",
       "  </thead>\n",
       "  <tbody>\n",
       "    <tr>\n",
       "      <th>---CHVW7DUN8SZLO</th>\n",
       "      <td>0.741937</td>\n",
       "      <td>---CHVW7DUN8SZLO</td>\n",
       "    </tr>\n",
       "    <tr>\n",
       "      <th>--37ZQ9XGUMXZASK</th>\n",
       "      <td>0.095310</td>\n",
       "      <td>--37ZQ9XGUMXZASK</td>\n",
       "    </tr>\n",
       "    <tr>\n",
       "      <th>--55JSAQ0THV0RMA</th>\n",
       "      <td>0.095310</td>\n",
       "      <td>--55JSAQ0THV0RMA</td>\n",
       "    </tr>\n",
       "    <tr>\n",
       "      <th>--AEHX30X32VHK3Y</th>\n",
       "      <td>0.095310</td>\n",
       "      <td>--AEHX30X32VHK3Y</td>\n",
       "    </tr>\n",
       "    <tr>\n",
       "      <th>--AKTEGTKD38U3BY</th>\n",
       "      <td>0.095310</td>\n",
       "      <td>--AKTEGTKD38U3BY</td>\n",
       "    </tr>\n",
       "  </tbody>\n",
       "</table>\n",
       "</div>"
      ],
      "text/plain": [
       "                     count           CUST_NO\n",
       "CUST_NO                                     \n",
       "---CHVW7DUN8SZLO  0.741937  ---CHVW7DUN8SZLO\n",
       "--37ZQ9XGUMXZASK  0.095310  --37ZQ9XGUMXZASK\n",
       "--55JSAQ0THV0RMA  0.095310  --55JSAQ0THV0RMA\n",
       "--AEHX30X32VHK3Y  0.095310  --AEHX30X32VHK3Y\n",
       "--AKTEGTKD38U3BY  0.095310  --AKTEGTKD38U3BY"
      ]
     },
     "execution_count": 438,
     "metadata": {},
     "output_type": "execute_result"
    }
   ],
   "source": [
    "CC_count['count'] = np.log(CC_count['count'].values+0.1)\n",
    "CC_count['CUST_NO'] = CC_count.index # for merge format\n",
    "CC_count.head()"
   ]
  },
  {
   "cell_type": "code",
   "execution_count": null,
   "metadata": {},
   "outputs": [],
   "source": []
  },
  {
   "cell_type": "markdown",
   "metadata": {},
   "source": [
    "# LN Data"
   ]
  },
  {
   "cell_type": "code",
   "execution_count": 439,
   "metadata": {},
   "outputs": [
    {
     "name": "stdout",
     "output_type": "stream",
     "text": [
      "The data shape is : (6741, 4)\n",
      "Unrepeat custom id: 6654\n"
     ]
    },
    {
     "data": {
      "text/html": [
       "<div>\n",
       "<style scoped>\n",
       "    .dataframe tbody tr th:only-of-type {\n",
       "        vertical-align: middle;\n",
       "    }\n",
       "\n",
       "    .dataframe tbody tr th {\n",
       "        vertical-align: top;\n",
       "    }\n",
       "\n",
       "    .dataframe thead th {\n",
       "        text-align: right;\n",
       "    }\n",
       "</style>\n",
       "<table border=\"1\" class=\"dataframe\">\n",
       "  <thead>\n",
       "    <tr style=\"text-align: right;\">\n",
       "      <th></th>\n",
       "      <th>CUST_NO</th>\n",
       "      <th>TXN_DT</th>\n",
       "      <th>LN_AMT</th>\n",
       "      <th>LN_USE</th>\n",
       "    </tr>\n",
       "  </thead>\n",
       "  <tbody>\n",
       "    <tr>\n",
       "      <th>0</th>\n",
       "      <td>JZKEGB1J3FEPXGWA</td>\n",
       "      <td>9455</td>\n",
       "      <td>904731</td>\n",
       "      <td>06</td>\n",
       "    </tr>\n",
       "    <tr>\n",
       "      <th>1</th>\n",
       "      <td>TKTH9UXLWDVLA8E4</td>\n",
       "      <td>9472</td>\n",
       "      <td>1218170</td>\n",
       "      <td>01</td>\n",
       "    </tr>\n",
       "    <tr>\n",
       "      <th>2</th>\n",
       "      <td>KZ0XPLZI-NGTHTDE</td>\n",
       "      <td>9505</td>\n",
       "      <td>1183088</td>\n",
       "      <td>01</td>\n",
       "    </tr>\n",
       "    <tr>\n",
       "      <th>3</th>\n",
       "      <td>BT5INBWYOZQK8CDY</td>\n",
       "      <td>9457</td>\n",
       "      <td>848097</td>\n",
       "      <td>05</td>\n",
       "    </tr>\n",
       "    <tr>\n",
       "      <th>4</th>\n",
       "      <td>Z5H7IUX8VPUMWWY8</td>\n",
       "      <td>9473</td>\n",
       "      <td>848097</td>\n",
       "      <td>01</td>\n",
       "    </tr>\n",
       "  </tbody>\n",
       "</table>\n",
       "</div>"
      ],
      "text/plain": [
       "            CUST_NO  TXN_DT   LN_AMT LN_USE\n",
       "0  JZKEGB1J3FEPXGWA    9455   904731     06\n",
       "1  TKTH9UXLWDVLA8E4    9472  1218170     01\n",
       "2  KZ0XPLZI-NGTHTDE    9505  1183088     01\n",
       "3  BT5INBWYOZQK8CDY    9457   848097     05\n",
       "4  Z5H7IUX8VPUMWWY8    9473   848097     01"
      ]
     },
     "execution_count": 439,
     "metadata": {},
     "output_type": "execute_result"
    }
   ],
   "source": [
    "# TBN_LN_APPLY.csv (信貸）\n",
    "LN_df = pd.read_csv('TBN_LN_APPLY.csv')\n",
    "print(f'The data shape is : {LN_df.shape}')\n",
    "print('Unrepeat custom id:', len(set(LN_df['CUST_NO'])))\n",
    "LN_df.head()"
   ]
  },
  {
   "cell_type": "code",
   "execution_count": 440,
   "metadata": {},
   "outputs": [
    {
     "data": {
      "text/plain": [
       "01     147\n",
       "02    1032\n",
       "03     121\n",
       "04     290\n",
       "05     867\n",
       "06    1182\n",
       "07     388\n",
       "08     212\n",
       "09     187\n",
       "0Z       6\n",
       "10       4\n",
       "11     107\n",
       "12       9\n",
       "14    1644\n",
       "15      39\n",
       "16      25\n",
       "17       6\n",
       "18     330\n",
       "19      58\n",
       "20       7\n",
       "21      80\n",
       "dtype: int64"
      ]
     },
     "execution_count": 440,
     "metadata": {},
     "output_type": "execute_result"
    }
   ],
   "source": [
    "pd.get_dummies(LN_df['LN_USE']).sum()"
   ]
  },
  {
   "cell_type": "code",
   "execution_count": 441,
   "metadata": {},
   "outputs": [],
   "source": [
    "# 'LN_USE' include  '01'-'09'  '10'-'12'  '14'-'21', and '0Z'\n",
    "LN_df['LN_USE'] = LN_df['LN_USE'].replace('0Z', '13')\n",
    "LN_df['LN_USE'] = LN_df['LN_USE'].values.astype(np.int16)"
   ]
  },
  {
   "cell_type": "code",
   "execution_count": 442,
   "metadata": {},
   "outputs": [
    {
     "data": {
      "text/html": [
       "<div>\n",
       "<style scoped>\n",
       "    .dataframe tbody tr th:only-of-type {\n",
       "        vertical-align: middle;\n",
       "    }\n",
       "\n",
       "    .dataframe tbody tr th {\n",
       "        vertical-align: top;\n",
       "    }\n",
       "\n",
       "    .dataframe thead th {\n",
       "        text-align: right;\n",
       "    }\n",
       "</style>\n",
       "<table border=\"1\" class=\"dataframe\">\n",
       "  <thead>\n",
       "    <tr style=\"text-align: right;\">\n",
       "      <th></th>\n",
       "      <th>CUST_NO</th>\n",
       "      <th>TXN_DT</th>\n",
       "      <th>LN_AMT</th>\n",
       "      <th>1</th>\n",
       "      <th>2</th>\n",
       "      <th>3</th>\n",
       "      <th>4</th>\n",
       "      <th>5</th>\n",
       "      <th>6</th>\n",
       "      <th>7</th>\n",
       "      <th>...</th>\n",
       "      <th>12</th>\n",
       "      <th>13</th>\n",
       "      <th>14</th>\n",
       "      <th>15</th>\n",
       "      <th>16</th>\n",
       "      <th>17</th>\n",
       "      <th>18</th>\n",
       "      <th>19</th>\n",
       "      <th>20</th>\n",
       "      <th>21</th>\n",
       "    </tr>\n",
       "  </thead>\n",
       "  <tbody>\n",
       "    <tr>\n",
       "      <th>0</th>\n",
       "      <td>JZKEGB1J3FEPXGWA</td>\n",
       "      <td>9455</td>\n",
       "      <td>904731</td>\n",
       "      <td>0</td>\n",
       "      <td>0</td>\n",
       "      <td>0</td>\n",
       "      <td>0</td>\n",
       "      <td>0</td>\n",
       "      <td>1</td>\n",
       "      <td>0</td>\n",
       "      <td>...</td>\n",
       "      <td>0</td>\n",
       "      <td>0</td>\n",
       "      <td>0</td>\n",
       "      <td>0</td>\n",
       "      <td>0</td>\n",
       "      <td>0</td>\n",
       "      <td>0</td>\n",
       "      <td>0</td>\n",
       "      <td>0</td>\n",
       "      <td>0</td>\n",
       "    </tr>\n",
       "    <tr>\n",
       "      <th>1</th>\n",
       "      <td>TKTH9UXLWDVLA8E4</td>\n",
       "      <td>9472</td>\n",
       "      <td>1218170</td>\n",
       "      <td>1</td>\n",
       "      <td>0</td>\n",
       "      <td>0</td>\n",
       "      <td>0</td>\n",
       "      <td>0</td>\n",
       "      <td>0</td>\n",
       "      <td>0</td>\n",
       "      <td>...</td>\n",
       "      <td>0</td>\n",
       "      <td>0</td>\n",
       "      <td>0</td>\n",
       "      <td>0</td>\n",
       "      <td>0</td>\n",
       "      <td>0</td>\n",
       "      <td>0</td>\n",
       "      <td>0</td>\n",
       "      <td>0</td>\n",
       "      <td>0</td>\n",
       "    </tr>\n",
       "    <tr>\n",
       "      <th>2</th>\n",
       "      <td>KZ0XPLZI-NGTHTDE</td>\n",
       "      <td>9505</td>\n",
       "      <td>1183088</td>\n",
       "      <td>1</td>\n",
       "      <td>0</td>\n",
       "      <td>0</td>\n",
       "      <td>0</td>\n",
       "      <td>0</td>\n",
       "      <td>0</td>\n",
       "      <td>0</td>\n",
       "      <td>...</td>\n",
       "      <td>0</td>\n",
       "      <td>0</td>\n",
       "      <td>0</td>\n",
       "      <td>0</td>\n",
       "      <td>0</td>\n",
       "      <td>0</td>\n",
       "      <td>0</td>\n",
       "      <td>0</td>\n",
       "      <td>0</td>\n",
       "      <td>0</td>\n",
       "    </tr>\n",
       "    <tr>\n",
       "      <th>3</th>\n",
       "      <td>BT5INBWYOZQK8CDY</td>\n",
       "      <td>9457</td>\n",
       "      <td>848097</td>\n",
       "      <td>0</td>\n",
       "      <td>0</td>\n",
       "      <td>0</td>\n",
       "      <td>0</td>\n",
       "      <td>1</td>\n",
       "      <td>0</td>\n",
       "      <td>0</td>\n",
       "      <td>...</td>\n",
       "      <td>0</td>\n",
       "      <td>0</td>\n",
       "      <td>0</td>\n",
       "      <td>0</td>\n",
       "      <td>0</td>\n",
       "      <td>0</td>\n",
       "      <td>0</td>\n",
       "      <td>0</td>\n",
       "      <td>0</td>\n",
       "      <td>0</td>\n",
       "    </tr>\n",
       "    <tr>\n",
       "      <th>4</th>\n",
       "      <td>Z5H7IUX8VPUMWWY8</td>\n",
       "      <td>9473</td>\n",
       "      <td>848097</td>\n",
       "      <td>1</td>\n",
       "      <td>0</td>\n",
       "      <td>0</td>\n",
       "      <td>0</td>\n",
       "      <td>0</td>\n",
       "      <td>0</td>\n",
       "      <td>0</td>\n",
       "      <td>...</td>\n",
       "      <td>0</td>\n",
       "      <td>0</td>\n",
       "      <td>0</td>\n",
       "      <td>0</td>\n",
       "      <td>0</td>\n",
       "      <td>0</td>\n",
       "      <td>0</td>\n",
       "      <td>0</td>\n",
       "      <td>0</td>\n",
       "      <td>0</td>\n",
       "    </tr>\n",
       "  </tbody>\n",
       "</table>\n",
       "<p>5 rows × 24 columns</p>\n",
       "</div>"
      ],
      "text/plain": [
       "            CUST_NO  TXN_DT   LN_AMT  1  2  3  4  5  6  7 ...  12  13  14  15  \\\n",
       "0  JZKEGB1J3FEPXGWA    9455   904731  0  0  0  0  0  1  0 ...   0   0   0   0   \n",
       "1  TKTH9UXLWDVLA8E4    9472  1218170  1  0  0  0  0  0  0 ...   0   0   0   0   \n",
       "2  KZ0XPLZI-NGTHTDE    9505  1183088  1  0  0  0  0  0  0 ...   0   0   0   0   \n",
       "3  BT5INBWYOZQK8CDY    9457   848097  0  0  0  0  1  0  0 ...   0   0   0   0   \n",
       "4  Z5H7IUX8VPUMWWY8    9473   848097  1  0  0  0  0  0  0 ...   0   0   0   0   \n",
       "\n",
       "   16  17  18  19  20  21  \n",
       "0   0   0   0   0   0   0  \n",
       "1   0   0   0   0   0   0  \n",
       "2   0   0   0   0   0   0  \n",
       "3   0   0   0   0   0   0  \n",
       "4   0   0   0   0   0   0  \n",
       "\n",
       "[5 rows x 24 columns]"
      ]
     },
     "execution_count": 442,
     "metadata": {},
     "output_type": "execute_result"
    }
   ],
   "source": [
    "def get_dummy_col(df, target_col=''):\n",
    "    dummy = pd.get_dummies(df[target_col])\n",
    "    for col in dummy.columns:\n",
    "        df[col] = dummy[col]\n",
    "    del df[target_col]\n",
    "    return df\n",
    "LN_df = get_dummy_col(df=LN_df, target_col='LN_USE')\n",
    "LN_df.head()"
   ]
  },
  {
   "cell_type": "code",
   "execution_count": null,
   "metadata": {},
   "outputs": [],
   "source": []
  },
  {
   "cell_type": "markdown",
   "metadata": {},
   "source": [
    "# Cluster : Interactive id"
   ]
  },
  {
   "cell_type": "code",
   "execution_count": 443,
   "metadata": {},
   "outputs": [
    {
     "name": "stdout",
     "output_type": "stream",
     "text": [
      "29854\n"
     ]
    }
   ],
   "source": [
    "browse_persional_test = set(cust_browse_df.index) & set(cust_persional_df['CUST_NO']) & set(test_id)\n",
    "print(len(browse_persional_test))"
   ]
  },
  {
   "cell_type": "code",
   "execution_count": 444,
   "metadata": {},
   "outputs": [
    {
     "data": {
      "text/plain": [
       "1081"
      ]
     },
     "execution_count": 444,
     "metadata": {},
     "output_type": "execute_result"
    }
   ],
   "source": [
    "LN_browse_persional = set(cust_browse_df.index) & set(LN_df['CUST_NO']) & set(cust_persional_df['CUST_NO'])\n",
    "len(LN_browse_persional)"
   ]
  },
  {
   "cell_type": "code",
   "execution_count": null,
   "metadata": {},
   "outputs": [],
   "source": []
  },
  {
   "cell_type": "code",
   "execution_count": 445,
   "metadata": {},
   "outputs": [
    {
     "name": "stdout",
     "output_type": "stream",
     "text": [
      "(30530, 10)\n"
     ]
    },
    {
     "name": "stderr",
     "output_type": "stream",
     "text": [
      "/home/rsa-key-20181105/anaconda3/envs/facewap/lib/python3.6/site-packages/IPython/core/interactiveshell.py:3267: FutureWarning: 'CUST_NO' is both an index level and a column label.\n",
      "Defaulting to column, but this will raise an ambiguity error in a future version\n",
      "  exec(code_obj, self.user_global_ns, self.user_ns)\n"
     ]
    },
    {
     "data": {
      "text/html": [
       "<div>\n",
       "<style scoped>\n",
       "    .dataframe tbody tr th:only-of-type {\n",
       "        vertical-align: middle;\n",
       "    }\n",
       "\n",
       "    .dataframe tbody tr th {\n",
       "        vertical-align: top;\n",
       "    }\n",
       "\n",
       "    .dataframe thead th {\n",
       "        text-align: right;\n",
       "    }\n",
       "</style>\n",
       "<table border=\"1\" class=\"dataframe\">\n",
       "  <thead>\n",
       "    <tr style=\"text-align: right;\">\n",
       "      <th></th>\n",
       "      <th>CUST_NO</th>\n",
       "      <th>AGE</th>\n",
       "      <th>EDU_CODE</th>\n",
       "      <th>GENDER_CODE</th>\n",
       "      <th>INCOME_RANGE_CODE</th>\n",
       "      <th>WORK_MTHS</th>\n",
       "      <th>START_DT_BINS</th>\n",
       "      <th>browse_edrn</th>\n",
       "      <th>browse_gygrt</th>\n",
       "      <th>count</th>\n",
       "    </tr>\n",
       "  </thead>\n",
       "  <tbody>\n",
       "    <tr>\n",
       "      <th>0</th>\n",
       "      <td>RCE0DTZYQXYLAQ8C</td>\n",
       "      <td>1.346323</td>\n",
       "      <td>-0.518944</td>\n",
       "      <td>1</td>\n",
       "      <td>-0.389091</td>\n",
       "      <td>-0.222357</td>\n",
       "      <td>0.1</td>\n",
       "      <td>-2.302585</td>\n",
       "      <td>-2.302585</td>\n",
       "      <td>0.00000</td>\n",
       "    </tr>\n",
       "    <tr>\n",
       "      <th>1</th>\n",
       "      <td>VNZ_EP3QFHRWTWHY</td>\n",
       "      <td>0.442111</td>\n",
       "      <td>-0.518944</td>\n",
       "      <td>1</td>\n",
       "      <td>-0.389091</td>\n",
       "      <td>-0.222357</td>\n",
       "      <td>0.4</td>\n",
       "      <td>-2.302585</td>\n",
       "      <td>0.095310</td>\n",
       "      <td>0.00000</td>\n",
       "    </tr>\n",
       "    <tr>\n",
       "      <th>2</th>\n",
       "      <td>QDUDYBMK4VKCSHYM</td>\n",
       "      <td>-1.366313</td>\n",
       "      <td>-0.518944</td>\n",
       "      <td>0</td>\n",
       "      <td>-0.389091</td>\n",
       "      <td>-0.222357</td>\n",
       "      <td>0.1</td>\n",
       "      <td>1.960095</td>\n",
       "      <td>1.131402</td>\n",
       "      <td>0.09531</td>\n",
       "    </tr>\n",
       "    <tr>\n",
       "      <th>3</th>\n",
       "      <td>NJANVPUWLSX0R_XK</td>\n",
       "      <td>-0.462101</td>\n",
       "      <td>-0.518944</td>\n",
       "      <td>0</td>\n",
       "      <td>-0.389091</td>\n",
       "      <td>-0.222357</td>\n",
       "      <td>0.3</td>\n",
       "      <td>2.406945</td>\n",
       "      <td>-2.302585</td>\n",
       "      <td>0.09531</td>\n",
       "    </tr>\n",
       "    <tr>\n",
       "      <th>4</th>\n",
       "      <td>2RNOB_YKALVLIC2E</td>\n",
       "      <td>-0.462101</td>\n",
       "      <td>1.958414</td>\n",
       "      <td>1</td>\n",
       "      <td>1.468985</td>\n",
       "      <td>-0.222357</td>\n",
       "      <td>0.2</td>\n",
       "      <td>0.095310</td>\n",
       "      <td>-2.302585</td>\n",
       "      <td>0.00000</td>\n",
       "    </tr>\n",
       "  </tbody>\n",
       "</table>\n",
       "</div>"
      ],
      "text/plain": [
       "            CUST_NO       AGE  EDU_CODE  GENDER_CODE  INCOME_RANGE_CODE  \\\n",
       "0  RCE0DTZYQXYLAQ8C  1.346323 -0.518944            1          -0.389091   \n",
       "1  VNZ_EP3QFHRWTWHY  0.442111 -0.518944            1          -0.389091   \n",
       "2  QDUDYBMK4VKCSHYM -1.366313 -0.518944            0          -0.389091   \n",
       "3  NJANVPUWLSX0R_XK -0.462101 -0.518944            0          -0.389091   \n",
       "4  2RNOB_YKALVLIC2E -0.462101  1.958414            1           1.468985   \n",
       "\n",
       "   WORK_MTHS START_DT_BINS  browse_edrn  browse_gygrt    count  \n",
       "0  -0.222357           0.1    -2.302585     -2.302585  0.00000  \n",
       "1  -0.222357           0.4    -2.302585      0.095310  0.00000  \n",
       "2  -0.222357           0.1     1.960095      1.131402  0.09531  \n",
       "3  -0.222357           0.3     2.406945     -2.302585  0.09531  \n",
       "4  -0.222357           0.2     0.095310     -2.302585  0.00000  "
      ]
     },
     "execution_count": 445,
     "metadata": {},
     "output_type": "execute_result"
    }
   ],
   "source": [
    "df_browse_persional_test = pd.DataFrame()\n",
    "df_browse_persional_test['CUST_NO']= list(browse_persional_test | LN_browse_persional)\n",
    "\n",
    "#merage_op = {'inner':cust_persional_df, 'left':cust_browse_df, 'left':CC_count}\n",
    "\n",
    "#for how, df in merage_op.items():\n",
    "#    df_browse_persional_test = pd.merge(\n",
    "#                                    df_browse_persional_test, df, \n",
    "#                                    how=how, left_on='CUST_NO', right_on='CUST_NO')\n",
    "\n",
    "df_browse_persional_test = pd.merge(\n",
    "                                    df_browse_persional_test, cust_persional_df, \n",
    "                                    how='inner', left_on='CUST_NO', right_on='CUST_NO')\n",
    "\n",
    "df_browse_persional_test = pd.merge(\n",
    "                                    df_browse_persional_test, cust_browse_df, \n",
    "                                    how='inner', left_on='CUST_NO', right_on='CUST_NO')\n",
    "\n",
    "\n",
    "df_browse_persional_test = pd.merge(\n",
    "                                    df_browse_persional_test, CC_count, \n",
    "                                    how='left', left_on='CUST_NO', right_on='CUST_NO')\n",
    "\n",
    "    \n",
    "df_browse_persional_test['count'] = df_browse_persional_test['count'].fillna(0)\n",
    "del df_browse_persional_test['VISITDATE']\n",
    "print(df_browse_persional_test.shape)\n",
    "df_browse_persional_test.head()"
   ]
  },
  {
   "cell_type": "code",
   "execution_count": 446,
   "metadata": {},
   "outputs": [],
   "source": [
    "cust_id = df_browse_persional_test['CUST_NO'].values\n",
    "del df_browse_persional_test['CUST_NO']"
   ]
  },
  {
   "cell_type": "code",
   "execution_count": 447,
   "metadata": {},
   "outputs": [],
   "source": [
    "main_label = []\n",
    "for the_id in cust_id:\n",
    "    if the_id in LN_browse_persional:\n",
    "        main_label.append(1)\n",
    "    else:\n",
    "        main_label.append(0)\n",
    "main_label = np.array(main_label)    "
   ]
  },
  {
   "cell_type": "markdown",
   "metadata": {},
   "source": [
    "# Cosine"
   ]
  },
  {
   "cell_type": "code",
   "execution_count": null,
   "metadata": {},
   "outputs": [],
   "source": []
  },
  {
   "cell_type": "markdown",
   "metadata": {},
   "source": [
    "# PCA"
   ]
  },
  {
   "cell_type": "code",
   "execution_count": 449,
   "metadata": {},
   "outputs": [],
   "source": [
    "import numpy as np"
   ]
  },
  {
   "cell_type": "code",
   "execution_count": null,
   "metadata": {},
   "outputs": [],
   "source": []
  },
  {
   "cell_type": "code",
   "execution_count": 457,
   "metadata": {},
   "outputs": [
    {
     "data": {
      "text/html": [
       "<div>\n",
       "<style scoped>\n",
       "    .dataframe tbody tr th:only-of-type {\n",
       "        vertical-align: middle;\n",
       "    }\n",
       "\n",
       "    .dataframe tbody tr th {\n",
       "        vertical-align: top;\n",
       "    }\n",
       "\n",
       "    .dataframe thead th {\n",
       "        text-align: right;\n",
       "    }\n",
       "</style>\n",
       "<table border=\"1\" class=\"dataframe\">\n",
       "  <thead>\n",
       "    <tr style=\"text-align: right;\">\n",
       "      <th></th>\n",
       "      <th>AGE</th>\n",
       "      <th>EDU_CODE</th>\n",
       "      <th>GENDER_CODE</th>\n",
       "      <th>INCOME_RANGE_CODE</th>\n",
       "      <th>WORK_MTHS</th>\n",
       "      <th>browse_edrn</th>\n",
       "      <th>browse_gygrt</th>\n",
       "      <th>count</th>\n",
       "    </tr>\n",
       "  </thead>\n",
       "  <tbody>\n",
       "    <tr>\n",
       "      <th>AGE</th>\n",
       "      <td>1.000000</td>\n",
       "      <td>0.062531</td>\n",
       "      <td>-0.000221</td>\n",
       "      <td>0.260916</td>\n",
       "      <td>0.192046</td>\n",
       "      <td>-0.010814</td>\n",
       "      <td>0.084256</td>\n",
       "      <td>-0.008975</td>\n",
       "    </tr>\n",
       "    <tr>\n",
       "      <th>EDU_CODE</th>\n",
       "      <td>0.062531</td>\n",
       "      <td>1.000000</td>\n",
       "      <td>-0.064009</td>\n",
       "      <td>-0.078411</td>\n",
       "      <td>-0.000042</td>\n",
       "      <td>-0.024994</td>\n",
       "      <td>0.006056</td>\n",
       "      <td>-0.013806</td>\n",
       "    </tr>\n",
       "    <tr>\n",
       "      <th>GENDER_CODE</th>\n",
       "      <td>-0.000221</td>\n",
       "      <td>-0.064009</td>\n",
       "      <td>1.000000</td>\n",
       "      <td>0.079833</td>\n",
       "      <td>0.018729</td>\n",
       "      <td>-0.061003</td>\n",
       "      <td>-0.002798</td>\n",
       "      <td>0.011090</td>\n",
       "    </tr>\n",
       "    <tr>\n",
       "      <th>INCOME_RANGE_CODE</th>\n",
       "      <td>0.260916</td>\n",
       "      <td>-0.078411</td>\n",
       "      <td>0.079833</td>\n",
       "      <td>1.000000</td>\n",
       "      <td>0.200656</td>\n",
       "      <td>0.072849</td>\n",
       "      <td>0.044496</td>\n",
       "      <td>0.084963</td>\n",
       "    </tr>\n",
       "    <tr>\n",
       "      <th>WORK_MTHS</th>\n",
       "      <td>0.192046</td>\n",
       "      <td>-0.000042</td>\n",
       "      <td>0.018729</td>\n",
       "      <td>0.200656</td>\n",
       "      <td>1.000000</td>\n",
       "      <td>-0.003563</td>\n",
       "      <td>0.021817</td>\n",
       "      <td>0.033128</td>\n",
       "    </tr>\n",
       "    <tr>\n",
       "      <th>browse_edrn</th>\n",
       "      <td>-0.010814</td>\n",
       "      <td>-0.024994</td>\n",
       "      <td>-0.061003</td>\n",
       "      <td>0.072849</td>\n",
       "      <td>-0.003563</td>\n",
       "      <td>1.000000</td>\n",
       "      <td>0.032806</td>\n",
       "      <td>0.056053</td>\n",
       "    </tr>\n",
       "    <tr>\n",
       "      <th>browse_gygrt</th>\n",
       "      <td>0.084256</td>\n",
       "      <td>0.006056</td>\n",
       "      <td>-0.002798</td>\n",
       "      <td>0.044496</td>\n",
       "      <td>0.021817</td>\n",
       "      <td>0.032806</td>\n",
       "      <td>1.000000</td>\n",
       "      <td>0.057661</td>\n",
       "    </tr>\n",
       "    <tr>\n",
       "      <th>count</th>\n",
       "      <td>-0.008975</td>\n",
       "      <td>-0.013806</td>\n",
       "      <td>0.011090</td>\n",
       "      <td>0.084963</td>\n",
       "      <td>0.033128</td>\n",
       "      <td>0.056053</td>\n",
       "      <td>0.057661</td>\n",
       "      <td>1.000000</td>\n",
       "    </tr>\n",
       "  </tbody>\n",
       "</table>\n",
       "</div>"
      ],
      "text/plain": [
       "                        AGE  EDU_CODE  GENDER_CODE  INCOME_RANGE_CODE  \\\n",
       "AGE                1.000000  0.062531    -0.000221           0.260916   \n",
       "EDU_CODE           0.062531  1.000000    -0.064009          -0.078411   \n",
       "GENDER_CODE       -0.000221 -0.064009     1.000000           0.079833   \n",
       "INCOME_RANGE_CODE  0.260916 -0.078411     0.079833           1.000000   \n",
       "WORK_MTHS          0.192046 -0.000042     0.018729           0.200656   \n",
       "browse_edrn       -0.010814 -0.024994    -0.061003           0.072849   \n",
       "browse_gygrt       0.084256  0.006056    -0.002798           0.044496   \n",
       "count             -0.008975 -0.013806     0.011090           0.084963   \n",
       "\n",
       "                   WORK_MTHS  browse_edrn  browse_gygrt     count  \n",
       "AGE                 0.192046    -0.010814      0.084256 -0.008975  \n",
       "EDU_CODE           -0.000042    -0.024994      0.006056 -0.013806  \n",
       "GENDER_CODE         0.018729    -0.061003     -0.002798  0.011090  \n",
       "INCOME_RANGE_CODE   0.200656     0.072849      0.044496  0.084963  \n",
       "WORK_MTHS           1.000000    -0.003563      0.021817  0.033128  \n",
       "browse_edrn        -0.003563     1.000000      0.032806  0.056053  \n",
       "browse_gygrt        0.021817     0.032806      1.000000  0.057661  \n",
       "count               0.033128     0.056053      0.057661  1.000000  "
      ]
     },
     "execution_count": 457,
     "metadata": {},
     "output_type": "execute_result"
    }
   ],
   "source": [
    "df_browse_persional_test.corr()"
   ]
  },
  {
   "cell_type": "code",
   "execution_count": null,
   "metadata": {},
   "outputs": [],
   "source": []
  },
  {
   "cell_type": "code",
   "execution_count": 450,
   "metadata": {},
   "outputs": [
    {
     "data": {
      "text/plain": [
       "PCA(copy=True, iterated_power='auto', n_components=2, random_state=None,\n",
       "  svd_solver='auto', tol=0.0, whiten=False)"
      ]
     },
     "execution_count": 450,
     "metadata": {},
     "output_type": "execute_result"
    }
   ],
   "source": [
    "#from sklearn.decomposition import PCA\n",
    "#pca = PCA(n_components=2)\n",
    "pca.fit(df_browse_persional_test)"
   ]
  },
  {
   "cell_type": "code",
   "execution_count": 451,
   "metadata": {},
   "outputs": [],
   "source": [
    "PCA_X = pca.transform(df_browse_persional_test)"
   ]
  },
  {
   "cell_type": "code",
   "execution_count": null,
   "metadata": {},
   "outputs": [],
   "source": []
  },
  {
   "cell_type": "code",
   "execution_count": 452,
   "metadata": {},
   "outputs": [],
   "source": [
    "from sklearn.cluster import KMeans"
   ]
  },
  {
   "cell_type": "code",
   "execution_count": 453,
   "metadata": {},
   "outputs": [
    {
     "data": {
      "text/plain": [
       "array([0, 0, 1, ..., 2, 0, 0], dtype=int32)"
      ]
     },
     "execution_count": 453,
     "metadata": {},
     "output_type": "execute_result"
    }
   ],
   "source": [
    "km = KMeans(n_clusters=3)\n",
    "km.fit(PCA_X)\n",
    "km.labels_"
   ]
  },
  {
   "cell_type": "code",
   "execution_count": 454,
   "metadata": {
    "scrolled": true
   },
   "outputs": [
    {
     "data": {
      "image/png": "[encoded data removed]",
      "text/plain": [
       "<Figure size 432x288 with 1 Axes>"
      ]
     },
     "metadata": {
      "needs_background": "light"
     },
     "output_type": "display_data"
    }
   ],
   "source": [
    "plt.figure()\n",
    "plt.scatter(PCA_X[:,0], PCA_X[:,1], c=km.labels_)\n",
    "plt.xlabel('PCA 0')\n",
    "plt.ylabel('PCA1')\n",
    "plt.title(\"PCA Scatter Plot\")\n",
    "plt.show()"
   ]
  },
  {
   "cell_type": "code",
   "execution_count": 455,
   "metadata": {},
   "outputs": [
    {
     "data": {
      "image/png": "[encoded data removed]",
      "text/plain": [
       "<Figure size 432x288 with 1 Axes>"
      ]
     },
     "metadata": {
      "needs_background": "light"
     },
     "output_type": "display_data"
    }
   ],
   "source": [
    "main_labe_pca = PCA_X[np.where(main_label==1)[0]]\n",
    "\n",
    "plt.figure()\n",
    "plt.scatter(main_labe_pca[:,0], main_labe_pca[:,1])\n",
    "plt.xlabel('PCA 0')\n",
    "plt.ylabel('PCA1')\n",
    "plt.title(\"PCA Scatter Plot\")\n",
    "plt.show()"
   ]
  },
  {
   "cell_type": "code",
   "execution_count": null,
   "metadata": {},
   "outputs": [],
   "source": []
  },
  {
   "cell_type": "code",
   "execution_count": null,
   "metadata": {},
   "outputs": [],
   "source": []
  },
  {
   "cell_type": "code",
   "execution_count": null,
   "metadata": {},
   "outputs": [],
   "source": []
  }
 ],
 "metadata": {
  "kernelspec": {
   "display_name": "Python 3",
   "language": "python",
   "name": "python3"
  },
  "language_info": {
   "codemirror_mode": {
    "name": "ipython",
    "version": 3
   },
   "file_extension": ".py",
   "mimetype": "text/x-python",
   "name": "python",
   "nbconvert_exporter": "python",
   "pygments_lexer": "ipython3",
   "version": "3.6.8"
  }
 },
 "nbformat": 4,
 "nbformat_minor": 2
}
