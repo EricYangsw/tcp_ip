{
 "cells": [
  {
   "cell_type": "markdown",
   "metadata": {},
   "source": [
    "### Socket modules: python內建，是 IP Address + port number 的連線\n",
    "  **Socket intorduction: https://gist.github.com/kevinkindom/108ffd675cb9253f8f71"
   ]
  },
  {
   "cell_type": "code",
   "execution_count": 2,
   "metadata": {},
   "outputs": [],
   "source": [
    "import sys\n",
    "import socket\n",
    "import threading"
   ]
  },
  {
   "cell_type": "code",
   "execution_count": 3,
   "metadata": {},
   "outputs": [
    {
     "name": "stdout",
     "output_type": "stream",
     "text": [
      "b'HTTP/1.1 301 Moved Permanently\\r\\nLocation: http://www.google.com/\\r\\nContent-Type: text/html; charset=UTF-8\\r\\nDate: Sat, 09 Feb 2019 08:45:58 GMT\\r\\nExpires: Mon, 11 Mar 2019 08:45:58 GMT\\r\\nCache-Control: public, max-age=2592000\\r\\nServer: gws\\r\\nContent-Length: 219\\r\\nX-XSS-Protection: 1; mode=block\\r\\nX-Frame-Options: SAMEORIGIN\\r\\n\\r\\n<HTML><HEAD><meta http-equiv=\"content-type\" content=\"text/html;charset=utf-8\">\\n<TITLE>301 Moved</TITLE></HEAD><BODY>\\n<H1>301 Moved</H1>\\nThe document has moved\\n<A HREF=\"http://www.google.com/\">here</A>.\\r\\n</BODY></HTML>\\r\\n'\n"
     ]
    }
   ],
   "source": [
    "# Connect to google webpage\n",
    "\n",
    "target_host = \"www.google.com\"\n",
    "target_port = 80\n",
    "\n",
    "# build socket object:\n",
    "#  AF_INET = IPv4; SOCK_STREAM = TCP\n",
    "client = socket.socket(socket.AF_INET, socket.SOCK_STREAM)\n",
    "\n",
    "client.connect((target_host, target_port))\n",
    "\n",
    "client.send(b'GET / HTTP/1.1\\r\\nHost: google.com\\r\\n\\r\\n')\n",
    "\n",
    "response = client.recv(4096)\n",
    "\n",
    "print(response)"
   ]
  },
  {
   "cell_type": "code",
   "execution_count": null,
   "metadata": {},
   "outputs": [],
   "source": []
  },
  {
   "cell_type": "code",
   "execution_count": 7,
   "metadata": {},
   "outputs": [
    {
     "name": "stdout",
     "output_type": "stream",
     "text": [
      "b'ACK!'\n"
     ]
    }
   ],
   "source": [
    "# Connect to ourself server \n",
    "\n",
    "target_host = \"0.0.0.0\"\n",
    "target_port = 9999\n",
    "\n",
    "# build socket object:\n",
    "#  AF_INET = IPv4; SOCK_STREAM = TCP\n",
    "client = socket.socket(socket.AF_INET, socket.SOCK_STREAM)\n",
    "\n",
    "client.connect((target_host, target_port))\n",
    "\n",
    "client.send(b'Try to connect to server yaya~~~')\n",
    "\n",
    "response = client.recv(4096)\n",
    "\n",
    "print(response)"
   ]
  },
  {
   "cell_type": "code",
   "execution_count": null,
   "metadata": {},
   "outputs": [],
   "source": []
  }
 ],
 "metadata": {
  "kernelspec": {
   "display_name": "Python 3",
   "language": "python",
   "name": "python3"
  },
  "language_info": {
   "codemirror_mode": {
    "name": "ipython",
    "version": 3
   },
   "file_extension": ".py",
   "mimetype": "text/x-python",
   "name": "python",
   "nbconvert_exporter": "python",
   "pygments_lexer": "ipython3",
   "version": "3.6.5"
  }
 },
 "nbformat": 4,
 "nbformat_minor": 2
}
